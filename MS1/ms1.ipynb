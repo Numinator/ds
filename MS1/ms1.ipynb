{
 "cells": [
  {
   "cell_type": "markdown",
   "metadata": {},
   "source": [
    "#\n",
    "\n",
    "\n",
    "Gruppe 21, "
   ]
  },
  {
   "cell_type": "code",
   "execution_count": 1,
   "metadata": {},
   "outputs": [],
   "source": [
    "from secrets import token_bytes\n",
    "import numpy as np\n",
    "import pandas as pd\n",
    "import nltk\n",
    "import re\n",
    "import nltk\n",
    "from matplotlib import pyplot as plt "
   ]
  },
  {
   "cell_type": "code",
   "execution_count": 2,
   "metadata": {},
   "outputs": [],
   "source": [
    "df_load = pd.read_csv(\"https://raw.githubusercontent.com/several27/FakeNewsCorpus/master/news_sample.csv\", delimiter=\",\")"
   ]
  },
  {
   "cell_type": "code",
   "execution_count": 3,
   "metadata": {},
   "outputs": [],
   "source": [
    "df = df_load.copy()\n",
    "\n",
    "def clean_text(txt):\n",
    "  txt = txt.lower()\n",
    "  txt = re.sub(r\"\\s+\", \" \", txt)\n",
    "  regex = {\"DATE\" : r\"(\\d+[\\\\/-])?\\d+[\\\\/-]\\d+\",\n",
    "      \"EMAIL\" : r\"\\w+@\\w+\\.[a-z]{2,}\",\n",
    "      \"URL\" : r\"([a-z\\d]+://)?[a-z]+[a-z\\d]*(\\.[a-z\\d\\-\\._~]+)+(/[a-z\\d\\-\\._~]*|(\\?[a-z\\d\\-\\._~]+=[a-z\\d\\-\\._~]+))*\",\n",
    "      \"NUM\" : r\"[+-]?((\\d+(,|\\.))*\\d+)\"}\n",
    "  for k in regex.keys():\n",
    "    txt = re.sub(regex[k], k, txt) \n",
    "  return txt\n",
    "\n",
    "def tokenize(txt):\n",
    "  tokens = nltk.word_tokenize(txt)\n",
    "  prepostfix = lambda t: \"<\"+t+\">\" if t.isupper() else t\n",
    "  return list(map(prepostfix, tokens))"
   ]
  },
  {
   "cell_type": "code",
   "execution_count": 92,
   "metadata": {},
   "outputs": [
    {
     "name": "stdout",
     "output_type": "stream",
     "text": [
      "Unnamed: 0                                                          2\n",
      "id                                                                700\n",
      "domain                                                    cnnnext.com\n",
      "type                                                       unreliable\n",
      "url                 http://www.cnnnext.com/video/18526/never-hike-...\n",
      "content             Never Hike Alone: A Friday the 13th Fan Film U...\n",
      "scraped_at                                 2018-01-25 16:17:44.789555\n",
      "inserted_at                                2018-02-02 01:19:41.756632\n",
      "updated_at                                 2018-02-02 01:19:41.756664\n",
      "title               Never Hike Alone - A Friday the 13th Fan Film ...\n",
      "authors                                                           NaN\n",
      "keywords                                                          NaN\n",
      "meta_keywords                                                    ['']\n",
      "meta_description    Never Hike Alone: A Friday the 13th Fan Film  ...\n",
      "tags                                                              NaN\n",
      "summary                                                           NaN\n",
      "tokens              [never, hike, alone, :, a, friday, the, NUMth,...\n",
      "Name: 2, dtype: object\n"
     ]
    }
   ],
   "source": [
    "df = df.dropna(subset =[\"type\"])\n",
    "\n",
    "df_content = df[\"content\"]\n",
    "df_cleaned = df_content.apply(clean_text)\n",
    "df_token = df_cleaned.apply(tokenize)\n",
    "\n",
    "df[\"tokens\"] = df_token"
   ]
  },
  {
   "cell_type": "markdown",
   "metadata": {},
   "source": [
    "# Task 3 "
   ]
  },
  {
   "cell_type": "code",
   "execution_count": 109,
   "metadata": {},
   "outputs": [],
   "source": [
    "# Function which returns list of token counts [URL, NUM, DATA, EMAIL, ALL_tokens]\n",
    "def count_tokens(tokens):\n",
    "    meta_tokens  = [\"<URL>\", \"<NUM>\", \"<DATE>\", \"<EMAIL>\"]\n",
    "    meta_counts = [0, 0, 0, 0]\n",
    "    for token in tokens:\n",
    "      if token in meta_tokens:\n",
    "        i = meta_tokens.index(token)\n",
    "        meta_counts[i] += 1\n",
    "    token_count = len(tokens)\n",
    "    return [token_count] + meta_counts\n",
    "\n",
    "\n",
    "# Observation 1 - relationship between type and tokencount (length of article)\n",
    "def type_token_relation(df):\n",
    "    counts = df[\"tokens\"].apply(count_tokens)\n",
    "    tokens = counts.apply(lambda xs: xs[0])\n",
    "    tokens = tokens.rename(\"token_count\")\n",
    "    df_temp = pd.concat([df[\"type\"], tokens], axis=1)\n",
    "\n",
    "    df_ret = pd.DataFrame(index = df.index)\n",
    "    types = df_temp[\"type\"].unique()\n",
    "    for t in types:\n",
    "        df_ret[t] = df_temp[df_temp[\"type\"] == t][\"token_count\"]\n",
    "        pd.concat([df_ret, df_ret[t]], axis=1, ignore_index = True) \n",
    "\n",
    "    df_ret.boxplot()\n",
    "\n",
    "    return df_ret.mean(axis=0)\n",
    "\n",
    "# Observation 2 - relationship between type and URL frequency\n",
    "def type_URLfreq_relation(df):\n",
    "    counts = df[\"tokens\"].apply(count_tokens)\n",
    "    url_freq = counts.apply(lambda xs: xs[1]/xs[0])\n",
    "    url_freq = url_freq.rename(\"url_freq\")\n",
    "    df_temp = pd.concat([df[\"type\"], url_freq], axis=1)\n",
    "\n",
    "    df_ret = pd.DataFrame(index = df.index)\n",
    "    types = df_temp[\"type\"].unique()\n",
    "    for t in types:\n",
    "        df_ret[t] = df_temp[df_temp[\"type\"] == t][\"url_freq\"]\n",
    "        pd.concat([df_ret, df_ret[t]], axis=1, ignore_index = True) \n",
    "\n",
    "    df_ret.boxplot()\n",
    "\n",
    "    return df_ret.mean(axis=0)\n",
    "\n",
    "# Observation 3 - type distribution of dataset\n",
    "def type_distribution(df):\n",
    "    df['type'].value_counts().plot.bar()\n",
    "    return df['type'].value_counts()\n",
    "\n",
    "# Observation 4 - types of article each domain publishes\n",
    "def domain_type_relation(df):\n",
    "    domains = df[\"domain\"].unique()\n",
    "    types = []\n",
    "    for domain in domains:\n",
    "        types.append(df[df[\"domain\"] == domain][\"type\"].value_counts().to_dict())\n",
    "    idx = sorted(range(len(types)), key=lambda i: list(types[i].items())[0][1])\n",
    "    return list(map(lambda i: (domains[i], types[i]), reversed(idx)))"
   ]
  },
  {
   "cell_type": "code",
   "execution_count": 110,
   "metadata": {},
   "outputs": [
    {
     "data": {
      "text/plain": [
       "unreliable     361.666667\n",
       "fake           769.554839\n",
       "clickbait      329.000000\n",
       "conspiracy     938.225806\n",
       "reliable       530.666667\n",
       "bias           520.833333\n",
       "hate            67.000000\n",
       "junksci        415.000000\n",
       "political      756.086957\n",
       "unknown       2730.000000\n",
       "dtype: float64"
      ]
     },
     "execution_count": 110,
     "metadata": {},
     "output_type": "execute_result"
    },
    {
     "data": {
      "image/png": "[encoded data removed]",
      "text/plain": [
       "<Figure size 432x288 with 1 Axes>"
      ]
     },
     "metadata": {
      "needs_background": "light"
     },
     "output_type": "display_data"
    }
   ],
   "source": [
    "type_token_relation(df)"
   ]
  },
  {
   "cell_type": "code",
   "execution_count": 111,
   "metadata": {},
   "outputs": [
    {
     "data": {
      "text/plain": [
       "unreliable    0.007411\n",
       "fake          0.004505\n",
       "clickbait     0.000000\n",
       "conspiracy    0.003574\n",
       "reliable      0.001008\n",
       "bias          0.005705\n",
       "hate          0.000000\n",
       "junksci       0.013840\n",
       "political     0.002906\n",
       "unknown       0.001769\n",
       "dtype: float64"
      ]
     },
     "execution_count": 111,
     "metadata": {},
     "output_type": "execute_result"
    },
    {
     "data": {
      "image/png": "[encoded data removed]",
      "text/plain": [
       "<Figure size 432x288 with 1 Axes>"
      ]
     },
     "metadata": {
      "needs_background": "light"
     },
     "output_type": "display_data"
    }
   ],
   "source": [
    "type_URLfreq_relation(df)"
   ]
  },
  {
   "cell_type": "code",
   "execution_count": 112,
   "metadata": {},
   "outputs": [
    {
     "data": {
      "text/plain": [
       "fake          155\n",
       "conspiracy     31\n",
       "political      23\n",
       "unreliable      6\n",
       "bias            6\n",
       "junksci         6\n",
       "unknown         6\n",
       "reliable        3\n",
       "clickbait       1\n",
       "hate            1\n",
       "Name: type, dtype: int64"
      ]
     },
     "execution_count": 112,
     "metadata": {},
     "output_type": "execute_result"
    },
    {
     "data": {
      "image/png": "[encoded data removed]",
      "text/plain": [
       "<Figure size 432x288 with 1 Axes>"
      ]
     },
     "metadata": {
      "needs_background": "light"
     },
     "output_type": "display_data"
    }
   ],
   "source": [
    "type_distribution(df)"
   ]
  },
  {
   "cell_type": "code",
   "execution_count": 113,
   "metadata": {},
   "outputs": [
    {
     "data": {
      "text/plain": [
       "[('beforeitsnews.com', {'fake': 155}),\n",
       " ('canadafreepress.com', {'conspiracy': 24}),\n",
       " ('washingtonexaminer.com', {'political': 17}),\n",
       " ('awarenessact.com', {'conspiracy': 6}),\n",
       " ('naturalnews.com', {'junksci': 5}),\n",
       " ('strategic-culture.org', {'unknown': 4}),\n",
       " ('christianpost.com', {'reliable': 3}),\n",
       " ('city-journal.org', {'political': 2}),\n",
       " ('vdare.com', {'bias': 2}),\n",
       " ('undergroundhealth.com', {'unknown': 2}),\n",
       " ('alternet.org', {'political': 2}),\n",
       " ('awm.com', {'unreliable': 2}),\n",
       " ('breitbart.com', {'political': 1}),\n",
       " ('anonhq.com', {'unreliable': 1}),\n",
       " ('americanlookout.com', {'bias': 1}),\n",
       " ('washingtonsblog.com', {'bias': 1}),\n",
       " ('21stcenturywire.com', {'conspiracy': 1}),\n",
       " ('unz.com', {'bias': 1}),\n",
       " ('nationalreview.com', {'political': 1}),\n",
       " ('collectivelyconscious.net', {'junksci': 1}),\n",
       " ('breakpoint.org', {'unreliable': 1}),\n",
       " ('barenakedislam.com', {'hate': 1}),\n",
       " ('charismanews.com', {'bias': 1}),\n",
       " ('blackagendareport.com', {'unreliable': 1}),\n",
       " ('bipartisanreport.com', {'clickbait': 1}),\n",
       " ('cnnnext.com', {'unreliable': 1})]"
      ]
     },
     "execution_count": 113,
     "metadata": {},
     "output_type": "execute_result"
    }
   ],
   "source": [
    "domain_type_relation(df)"
   ]
  }
 ],
 "metadata": {
  "interpreter": {
   "hash": "916dbcbb3f70747c44a77c7bcd40155683ae19c65e1c03b4aa3499c5328201f1"
  },
  "kernelspec": {
   "display_name": "Python 3.9.7 64-bit",
   "language": "python",
   "name": "python3"
  },
  "language_info": {
   "codemirror_mode": {
    "name": "ipython",
    "version": 3
   },
   "file_extension": ".py",
   "mimetype": "text/x-python",
   "name": "python",
   "nbconvert_exporter": "python",
   "pygments_lexer": "ipython3",
   "version": "3.7.3"
  },
  "orig_nbformat": 4
 },
 "nbformat": 4,
 "nbformat_minor": 2
}
