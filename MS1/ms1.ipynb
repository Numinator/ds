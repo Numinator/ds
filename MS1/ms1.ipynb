{
 "cells": [
  {
   "cell_type": "markdown",
   "metadata": {},
   "source": [
    "## Task 2\n",
    "\n",
    "The libraries used in task 2 are:\n",
    "- **pandas:** Used in 2 ways: As a DB (hold and query data), and for graph generation\n",
    "- **nltk:** Used to tokenize data\n",
    "- **re:** Used to substitute text that matches a regular expression\n",
    "\n",
    "Of note is that we abuse that only substituted expressions (URL, NUM etc.) have upper case letters. This allows us to discriminate the appropriate tokens to pre- and postfix\n",
    "with brackets."
   ]
  },
  {
   "cell_type": "code",
   "execution_count": 343,
   "metadata": {},
   "outputs": [],
   "source": [
    "import numpy as np\n",
    "import pandas as pd\n",
    "import nltk\n",
    "import re\n",
    "\n",
    "import requests\n",
    "from bs4 import BeautifulSoup as bs\n"
   ]
  },
  {
   "cell_type": "code",
   "execution_count": 344,
   "metadata": {},
   "outputs": [],
   "source": [
    "df_load = pd.read_csv(\"https://raw.githubusercontent.com/several27/FakeNewsCorpus/master/news_sample.csv\", delimiter=\",\")"
   ]
  },
  {
   "cell_type": "code",
   "execution_count": 345,
   "metadata": {},
   "outputs": [],
   "source": [
    "df = df_load.copy()\n",
    "\n",
    "def clean_text(txt):\n",
    "  txt = txt.lower()\n",
    "  txt = re.sub(r\"\\s+\", \" \", txt)\n",
    "  regex = {\"DATE\" : r\"(\\d+[\\\\/-])?\\d+[\\\\/-]\\d+\",\n",
    "      \"EMAIL\" : r\"\\w+@\\w+\\.[a-z]{2,}\",\n",
    "      \"URL\" : r\"([a-z\\d]+://)?[a-z]+[a-z\\d]*(\\.[a-z\\d\\-\\._~]+)+(/[a-z\\d\\-\\._~]*|(\\?[a-z\\d\\-\\._~]+=[a-z\\d\\-\\._~]+))*\",\n",
    "      \"NUM\" : r\"[+-]?((\\d+(,|\\.))*\\d+)\"}\n",
    "  for k in regex.keys():\n",
    "    txt = re.sub(regex[k], k, txt) \n",
    "  return txt\n",
    "\n",
    "def tokenize(txt):\n",
    "  tokens = nltk.word_tokenize(txt)\n",
    "  prepostfix = lambda t: \"<\"+t+\">\" if t.isupper() else t\n",
    "  return list(map(prepostfix, tokens))"
   ]
  },
  {
   "cell_type": "code",
   "execution_count": 346,
   "metadata": {},
   "outputs": [],
   "source": [
    "df = df.dropna(subset =[\"type\"])\n",
    "\n",
    "df_content = df[\"content\"]\n",
    "df_cleaned = df_content.apply(clean_text)\n",
    "df_token = df_cleaned.apply(tokenize)\n",
    "\n",
    "df[\"tokens\"] = df_token"
   ]
  },
  {
   "cell_type": "markdown",
   "metadata": {},
   "source": [
    "## Task 3 \n",
    "\n",
    "We have made 4 observation on the dataset. Our 4th observation is least visually interesting, but may be the most informative when it comes to building a fake-news model from the dataset.\n",
    "\n",
    "1. **Length by article type (*type_token_relation*):** \n",
    "This boxplot gives the distribution of the length of the articles in tokens within article types. Taking into consideration that the supermajority of articles types are undersamples in the data set (<6) (observation 2) this observation does not make it seem likely that there is a useful correlation between length and type.  \n",
    "2. **URL token frequency by article type (*type_URLfreq_relation*):**\n",
    "This boxplot gives the distribution of the frequency of the URL token within article type. It shows that many types are undersampled. This motivated us to look at the criteria for the types in the FakeNewsCorpus; aritcle types are mutually exclusive, but their semantics are not. This begs the question how FakeNews corpus decides when multiple types are appropriate - it seems that they have som rank-order for which type takes precedens, though as observation 4 shows this cannot be concluded.  \n",
    "3. **Distribution of types (*type_distribution*):**\n",
    "This barplot shows the distribution of types. From it we can conclude that the data(sub)set has an exponential drop-off in how populated each types is. Since we only have about 250 articles this means that the less populated types are very undersampled.\n",
    "4. **Distribution of types within a domain(*domain_type_relation*)**\n",
    "Most interestingly this oberservation shows us that each domain only have one type associated with them. This means that we have to be careful about what our model is actually checking; it could be that it is only checking the domain (through inference by the structure of the tokens) and then guesses by the type associated with the domain. It also shows that the datasubset have very few articles associated for each domain (<3)."
   ]
  },
  {
   "cell_type": "code",
   "execution_count": 347,
   "metadata": {},
   "outputs": [],
   "source": [
    "# Function which returns list of token counts [URL, NUM, DATA, EMAIL, ALL_tokens]\n",
    "def count_tokens(tokens):\n",
    "    meta_tokens  = [\"<URL>\", \"<NUM>\", \"<DATE>\", \"<EMAIL>\"]\n",
    "    meta_counts = [0, 0, 0, 0]\n",
    "    for token in tokens:\n",
    "      if token in meta_tokens:\n",
    "        i = meta_tokens.index(token)\n",
    "        meta_counts[i] += 1\n",
    "    token_count = len(tokens)\n",
    "    return [token_count] + meta_counts\n",
    "\n",
    "\n",
    "# Observation 1 - relationship between type and tokencount (length of article)\n",
    "def type_token_relation(df):\n",
    "    counts = df[\"tokens\"].apply(count_tokens)\n",
    "    tokens = counts.apply(lambda xs: xs[0])\n",
    "    tokens = tokens.rename(\"token_count\")\n",
    "    df_temp = pd.concat([df[\"type\"], tokens], axis=1)\n",
    "\n",
    "    df_ret = pd.DataFrame(index = df.index)\n",
    "    types = df_temp[\"type\"].unique()\n",
    "    for t in types:\n",
    "        df_ret[t] = df_temp[df_temp[\"type\"] == t][\"token_count\"]\n",
    "        pd.concat([df_ret, df_ret[t]], axis=1, ignore_index = True) \n",
    "\n",
    "    df_ret.boxplot(rot=45)\n",
    "\n",
    "    return df_ret.mean(axis=0)\n",
    "\n",
    "# Observation 2 - relationship between type and URL frequency\n",
    "def type_URLfreq_relation(df):\n",
    "    counts = df[\"tokens\"].apply(count_tokens)\n",
    "    url_freq = counts.apply(lambda xs: xs[1]/xs[0])\n",
    "    url_freq = url_freq.rename(\"url_freq\")\n",
    "    df_temp = pd.concat([df[\"type\"], url_freq], axis=1)\n",
    "\n",
    "    df_ret = pd.DataFrame(index = df.index)\n",
    "    types = df_temp[\"type\"].unique()\n",
    "    for t in types:\n",
    "        df_ret[t] = df_temp[df_temp[\"type\"] == t][\"url_freq\"]\n",
    "        pd.concat([df_ret, df_ret[t]], axis=1, ignore_index = True) \n",
    "\n",
    "    df_ret.boxplot(rot=45)\n",
    "\n",
    "    return df_ret.mean(axis=0)\n",
    "\n",
    "# Observation 3 - type distribution of dataset\n",
    "def type_distribution(df):\n",
    "    df['type'].value_counts().plot.bar()\n",
    "    return df['type'].value_counts()\n",
    "\n",
    "# Observation 4 - types of article each domain publishes\n",
    "def domain_type_relation(df):\n",
    "    domains = df[\"domain\"].unique()\n",
    "    types = []\n",
    "    for domain in domains:\n",
    "        types.append(df[df[\"domain\"] == domain][\"type\"].value_counts().to_dict())\n",
    "    idx = sorted(range(len(types)), key=lambda i: list(types[i].items())[0][1])\n",
    "    return list(map(lambda i: (domains[i], types[i]), reversed(idx)))"
   ]
  },
  {
   "cell_type": "code",
   "execution_count": null,
   "metadata": {},
   "outputs": [
    {
     "data": {
      "text/plain": [
       "unreliable     361.666667\n",
       "fake           769.554839\n",
       "clickbait      329.000000\n",
       "conspiracy     938.225806\n",
       "reliable       530.666667\n",
       "bias           520.833333\n",
       "hate            67.000000\n",
       "junksci        415.000000\n",
       "political      756.086957\n",
       "unknown       2730.000000\n",
       "dtype: float64"
      ]
     },
     "execution_count": 332,
     "metadata": {},
     "output_type": "execute_result"
    },
    {
     "data": {
      "image/png": "[encoded data removed]",
      "text/plain": [
       "<Figure size 432x288 with 1 Axes>"
      ]
     },
     "metadata": {
      "needs_background": "light"
     },
     "output_type": "display_data"
    }
   ],
   "source": [
    "type_token_relation(df)"
   ]
  },
  {
   "cell_type": "code",
   "execution_count": null,
   "metadata": {},
   "outputs": [
    {
     "data": {
      "text/plain": [
       "unreliable    0.007411\n",
       "fake          0.004505\n",
       "clickbait     0.000000\n",
       "conspiracy    0.003574\n",
       "reliable      0.001008\n",
       "bias          0.005705\n",
       "hate          0.000000\n",
       "junksci       0.013840\n",
       "political     0.002906\n",
       "unknown       0.001769\n",
       "dtype: float64"
      ]
     },
     "execution_count": 333,
     "metadata": {},
     "output_type": "execute_result"
    },
    {
     "data": {
      "image/png": "[encoded data removed]",
      "text/plain": [
       "<Figure size 432x288 with 1 Axes>"
      ]
     },
     "metadata": {
      "needs_background": "light"
     },
     "output_type": "display_data"
    }
   ],
   "source": [
    "type_URLfreq_relation(df)"
   ]
  },
  {
   "cell_type": "code",
   "execution_count": null,
   "metadata": {},
   "outputs": [
    {
     "data": {
      "text/plain": [
       "fake          155\n",
       "conspiracy     31\n",
       "political      23\n",
       "bias            6\n",
       "unreliable      6\n",
       "unknown         6\n",
       "junksci         6\n",
       "reliable        3\n",
       "clickbait       1\n",
       "hate            1\n",
       "Name: type, dtype: int64"
      ]
     },
     "execution_count": 334,
     "metadata": {},
     "output_type": "execute_result"
    },
    {
     "data": {
      "image/png": "[encoded data removed]",
      "text/plain": [
       "<Figure size 432x288 with 1 Axes>"
      ]
     },
     "metadata": {
      "needs_background": "light"
     },
     "output_type": "display_data"
    }
   ],
   "source": [
    "type_distribution(df)"
   ]
  },
  {
   "cell_type": "code",
   "execution_count": null,
   "metadata": {},
   "outputs": [
    {
     "data": {
      "text/plain": [
       "[('beforeitsnews.com', {'fake': 155}),\n",
       " ('canadafreepress.com', {'conspiracy': 24}),\n",
       " ('washingtonexaminer.com', {'political': 17}),\n",
       " ('awarenessact.com', {'conspiracy': 6}),\n",
       " ('naturalnews.com', {'junksci': 5}),\n",
       " ('strategic-culture.org', {'unknown': 4}),\n",
       " ('christianpost.com', {'reliable': 3}),\n",
       " ('city-journal.org', {'political': 2}),\n",
       " ('vdare.com', {'bias': 2}),\n",
       " ('undergroundhealth.com', {'unknown': 2}),\n",
       " ('alternet.org', {'political': 2}),\n",
       " ('awm.com', {'unreliable': 2}),\n",
       " ('breitbart.com', {'political': 1}),\n",
       " ('anonhq.com', {'unreliable': 1}),\n",
       " ('americanlookout.com', {'bias': 1}),\n",
       " ('washingtonsblog.com', {'bias': 1}),\n",
       " ('21stcenturywire.com', {'conspiracy': 1}),\n",
       " ('unz.com', {'bias': 1}),\n",
       " ('nationalreview.com', {'political': 1}),\n",
       " ('collectivelyconscious.net', {'junksci': 1}),\n",
       " ('breakpoint.org', {'unreliable': 1}),\n",
       " ('barenakedislam.com', {'hate': 1}),\n",
       " ('charismanews.com', {'bias': 1}),\n",
       " ('blackagendareport.com', {'unreliable': 1}),\n",
       " ('bipartisanreport.com', {'clickbait': 1}),\n",
       " ('cnnnext.com', {'unreliable': 1})]"
      ]
     },
     "execution_count": 335,
     "metadata": {},
     "output_type": "execute_result"
    }
   ],
   "source": [
    "domain_type_relation(df)"
   ]
  },
  {
   "cell_type": "markdown",
   "metadata": {},
   "source": [
    "# Task 4\n",
    "\n",
    "The libraries used in task 4 are:\n",
    "- **requests:** Used to send the HTTP requests and fetch the web page content.\n",
    "- **BeautifulSoup:** Used to scrape information from web pages, and helps in extracting the data from HTML files.\n",
    "\n"
   ]
  },
  {
   "cell_type": "code",
   "execution_count": 365,
   "metadata": {},
   "outputs": [],
   "source": [
    "def create_soup(url):\n",
    "    site = requests.get(url)\n",
    "    return bs(site.text, \"html.parser\")\n",
    "\n",
    "soup = create_soup('https://en.wikinews.org/wiki/Category:Politics_and_conflicts')\n",
    "\n",
    "letters = \"ABCDEFGHIJKLMNOPRSTUVWZABCDEFGHIJKLMNOPRSTUVWZ\"[21%23:21%23+10]"
   ]
  },
  {
   "cell_type": "code",
   "execution_count": 368,
   "metadata": {},
   "outputs": [],
   "source": [
    "def valid_links(soup):\n",
    "    links=[]\n",
    "    def is_valid(tag):\n",
    "        return tag.name == 'a' and tag.get('title')[0] in letters\n",
    "    section = {'id':\"mw-pages\"}\n",
    "    subsection = {'class':\"mw-category mw-category-columns\"}\n",
    "    for link in soup.find('div', section).find('div', subsection).find_all(is_valid):\n",
    "        links.append(\"https://en.wikinews.org\" + link.get('href'))\n",
    "    return links\n",
    "\n",
    "def next_page_url(soup):\n",
    "    return \"https://en.wikinews.org\" + soup.find('a', string=\"next page\").get('href')\n",
    "    \n",
    "def no_more_pages(soup):\n",
    "    return soup.find('a', string=\"next page\") is None\n",
    "\n",
    "def get_links(soup, links):\n",
    "    if no_more_pages(soup):\n",
    "        return links\n",
    "    else:\n",
    "        links += valid_links(soup)\n",
    "        next_soup = create_soup(next_page_url(soup))\n",
    "        return get_links(next_soup, links)"
   ]
  },
  {
   "cell_type": "code",
   "execution_count": 370,
   "metadata": {},
   "outputs": [
    {
     "data": {
      "text/plain": [
       "3039"
      ]
     },
     "execution_count": 370,
     "metadata": {},
     "output_type": "execute_result"
    }
   ],
   "source": [
    "links = get_links(soup, [])\n",
    "len(links)"
   ]
  },
  {
   "cell_type": "code",
   "execution_count": 435,
   "metadata": {},
   "outputs": [],
   "source": [
    "def scrape(url):\n",
    "    soup = create_soup(url)\n",
    "    title = soup.find('h1', {'id':\"firstHeading\"}).text\n",
    "    attr1 = {'id':\"bodyContent\"}\n",
    "    attr2 = {'class':\"mw-parser-output\"}\n",
    "    content = \"\"\n",
    "    for tag in soup.find('div', attr1).find('div', attr2).find_all('p'):\n",
    "        if tag.text.startswith('Have an opinion on this story'):\n",
    "            break\n",
    "        else:\n",
    "            content += tag.text\n",
    "    date, content = re.split(r\"\\n|\\xa0\",content, maxsplit=1)\n",
    "    return title, date, content\n",
    "\n",
    "\n",
    "scraped_data = pd.DataFrame(map(scrape, links), columns = ['title', 'date', 'content'])"
   ]
  },
  {
   "cell_type": "code",
   "execution_count": 433,
   "metadata": {},
   "outputs": [
    {
     "data": {
      "text/html": [
       "<div>\n",
       "<style scoped>\n",
       "    .dataframe tbody tr th:only-of-type {\n",
       "        vertical-align: middle;\n",
       "    }\n",
       "\n",
       "    .dataframe tbody tr th {\n",
       "        vertical-align: top;\n",
       "    }\n",
       "\n",
       "    .dataframe thead th {\n",
       "        text-align: right;\n",
       "    }\n",
       "</style>\n",
       "<table border=\"1\" class=\"dataframe\">\n",
       "  <thead>\n",
       "    <tr style=\"text-align: right;\">\n",
       "      <th></th>\n",
       "      <th>title</th>\n",
       "      <th>date</th>\n",
       "      <th>content</th>\n",
       "    </tr>\n",
       "  </thead>\n",
       "  <tbody>\n",
       "    <tr>\n",
       "      <th>0</th>\n",
       "      <td>A 1-year long strike against FMC Novamed: Wome...</td>\n",
       "      <td>Monday, September 17, 2007</td>\n",
       "      <td>\\nIn a free trade zone in Antalya, Turkey, 80 ...</td>\n",
       "    </tr>\n",
       "    <tr>\n",
       "      <th>1</th>\n",
       "      <td>A policeman is killed and another one is tortu...</td>\n",
       "      <td>Wednesday, February 16, 2005</td>\n",
       "      <td>\\nOn Sunday, February 6, 2005 the police offic...</td>\n",
       "    </tr>\n",
       "    <tr>\n",
       "      <th>2</th>\n",
       "      <td>A timeline: Novak, Rove, Cooper</td>\n",
       "      <td>Friday, July 15, 2005</td>\n",
       "      <td>\\nThe Novak story that sparked the contoversy ...</td>\n",
       "    </tr>\n",
       "    <tr>\n",
       "      <th>3</th>\n",
       "      <td>Abbas and Olmert meet before Bush visit</td>\n",
       "      <td>Tuesday, January 8, 2008</td>\n",
       "      <td>\\nIsraeli Prime Minister Ehud Olmert and Pales...</td>\n",
       "    </tr>\n",
       "    <tr>\n",
       "      <th>4</th>\n",
       "      <td>Abbas fires security chiefs for failure to cur...</td>\n",
       "      <td>Saturday, April 2, 2005</td>\n",
       "      <td>Palestinian Authority chairman Mahmoud Abbas f...</td>\n",
       "    </tr>\n",
       "    <tr>\n",
       "      <th>...</th>\n",
       "      <td>...</td>\n",
       "      <td>...</td>\n",
       "      <td>...</td>\n",
       "    </tr>\n",
       "    <tr>\n",
       "      <th>95</th>\n",
       "      <td>Airbnb announces intent to remove Israeli West...</td>\n",
       "      <td>Thursday, November 22, 2018</td>\n",
       "      <td>On Monday, online rental firm Airbnb announced...</td>\n",
       "    </tr>\n",
       "    <tr>\n",
       "      <th>96</th>\n",
       "      <td>Airline bombing suspect spent months in Yemen</td>\n",
       "      <td>Wednesday, December 30, 2009</td>\n",
       "      <td>\\nAuthorities in Yemen say the Nigerian man ac...</td>\n",
       "    </tr>\n",
       "    <tr>\n",
       "      <th>97</th>\n",
       "      <td>Airport named after late Nigerian President Um...</td>\n",
       "      <td>Thursday, May 13, 2010</td>\n",
       "      <td>\\nNigeria has announced that an airport has be...</td>\n",
       "    </tr>\n",
       "    <tr>\n",
       "      <th>98</th>\n",
       "      <td>Akayev flees Kyrgyzstan as protesters seize co...</td>\n",
       "      <td>Thursday, March 24, 2005</td>\n",
       "      <td>\\nThousands of demonstrators, reportedly cheer...</td>\n",
       "    </tr>\n",
       "    <tr>\n",
       "      <th>99</th>\n",
       "      <td>Akayev signs resignation agreement</td>\n",
       "      <td>Sunday, April 3, 2005</td>\n",
       "      <td>\\nDeposed President of Kyrgyzstan Askar Akayev...</td>\n",
       "    </tr>\n",
       "  </tbody>\n",
       "</table>\n",
       "<p>100 rows × 3 columns</p>\n",
       "</div>"
      ],
      "text/plain": [
       "                                                title  \\\n",
       "0   A 1-year long strike against FMC Novamed: Wome...   \n",
       "1   A policeman is killed and another one is tortu...   \n",
       "2                     A timeline: Novak, Rove, Cooper   \n",
       "3             Abbas and Olmert meet before Bush visit   \n",
       "4   Abbas fires security chiefs for failure to cur...   \n",
       "..                                                ...   \n",
       "95  Airbnb announces intent to remove Israeli West...   \n",
       "96      Airline bombing suspect spent months in Yemen   \n",
       "97  Airport named after late Nigerian President Um...   \n",
       "98  Akayev flees Kyrgyzstan as protesters seize co...   \n",
       "99                 Akayev signs resignation agreement   \n",
       "\n",
       "                            date  \\\n",
       "0     Monday, September 17, 2007   \n",
       "1   Wednesday, February 16, 2005   \n",
       "2          Friday, July 15, 2005   \n",
       "3       Tuesday, January 8, 2008   \n",
       "4        Saturday, April 2, 2005   \n",
       "..                           ...   \n",
       "95   Thursday, November 22, 2018   \n",
       "96  Wednesday, December 30, 2009   \n",
       "97        Thursday, May 13, 2010   \n",
       "98      Thursday, March 24, 2005   \n",
       "99         Sunday, April 3, 2005   \n",
       "\n",
       "                                              content  \n",
       "0   \\nIn a free trade zone in Antalya, Turkey, 80 ...  \n",
       "1   \\nOn Sunday, February 6, 2005 the police offic...  \n",
       "2   \\nThe Novak story that sparked the contoversy ...  \n",
       "3   \\nIsraeli Prime Minister Ehud Olmert and Pales...  \n",
       "4   Palestinian Authority chairman Mahmoud Abbas f...  \n",
       "..                                                ...  \n",
       "95  On Monday, online rental firm Airbnb announced...  \n",
       "96  \\nAuthorities in Yemen say the Nigerian man ac...  \n",
       "97  \\nNigeria has announced that an airport has be...  \n",
       "98  \\nThousands of demonstrators, reportedly cheer...  \n",
       "99  \\nDeposed President of Kyrgyzstan Askar Akayev...  \n",
       "\n",
       "[100 rows x 3 columns]"
      ]
     },
     "execution_count": 433,
     "metadata": {},
     "output_type": "execute_result"
    }
   ],
   "source": [
    "dataframe2"
   ]
  }
 ],
 "metadata": {
  "interpreter": {
   "hash": "916dbcbb3f70747c44a77c7bcd40155683ae19c65e1c03b4aa3499c5328201f1"
  },
  "kernelspec": {
   "display_name": "Python 3.9.7 64-bit",
   "language": "python",
   "name": "python3"
  },
  "language_info": {
   "codemirror_mode": {
    "name": "ipython",
    "version": 3
   },
   "file_extension": ".py",
   "mimetype": "text/x-python",
   "name": "python",
   "nbconvert_exporter": "python",
   "pygments_lexer": "ipython3",
   "version": "3.9.7"
  },
  "orig_nbformat": 4
 },
 "nbformat": 4,
 "nbformat_minor": 2
}
