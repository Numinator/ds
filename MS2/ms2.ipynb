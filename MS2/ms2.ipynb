{
 "cells": [
  {
   "cell_type": "markdown",
   "metadata": {},
   "source": [
    "# Milestone 2\n",
    "Frederik Kallestrup Mastratis (qln174)  \n",
    "Dongyu Liu (dlf327)  \n",
    "Shamim Tariq Akram (zmx145)  \n",
    "Celina Aurora Nguyen (szf345)  \n",
    "\n",
    "Group 21"
   ]
  },
  {
   "cell_type": "markdown",
   "metadata": {},
   "source": [
    "## Task 1\n",
    "\n",
    "\n",
    "\n",
    "A(_id_, domain, type, url, content, timestamps, title, summary)\n",
    "\n",
    "T(_id_:int, _tagid_:string)\n",
    "\n",
    "AU(_id_:int, _name_:string)\n",
    "\n",
    "K(_id_, _keyword_:string)\n",
    "\n",
    "MK(_id_, _keyword_:string)\n",
    "\n",
    "\n",
    "\n",
    "\n"
   ]
  },
  {
   "cell_type": "code",
   "execution_count": 21,
   "metadata": {},
   "outputs": [
    {
     "name": "stdout",
     "output_type": "stream",
     "text": [
      "Index(['Unnamed: 0', 'id', 'domain', 'type', 'url', 'content', 'scraped_at',\n",
      "       'inserted_at', 'updated_at', 'title', 'authors', 'keywords',\n",
      "       'meta_keywords', 'meta_description', 'tags', 'summary', 'source'],\n",
      "      dtype='object')\n"
     ]
    }
   ],
   "source": [
    "import psycopg2\n",
    "import numpy as np\n",
    "import pandas as pd\n",
    "\n",
    "tables = [\"artikel\", \"tags\", \"keywords\", \"metakeywords\"]\n",
    "\n",
    "sql_table_commands = [\n",
    "    \"\"\" \n",
    "    CREATE TABLE artikel (\n",
    "        id INT, \n",
    "        domain VARCHAR(50), \n",
    "        type VARCHAR(20), \n",
    "        url VARCHAR, \n",
    "        content VARCHAR, \n",
    "        scraped_at TIMESTAMP, \n",
    "        inserted_at TIMESTAMP,\n",
    "        updated_at TIMESTAMP, \n",
    "        title VARCHAR (256), \n",
    "        meta_description VARCHAR, \n",
    "        summary VARCHAR, \n",
    "        PRIMARY KEY (id) \n",
    "    )\n",
    "    \"\"\"\n",
    "    ,\n",
    "    \"\"\" \n",
    "    CREATE TABLE tags (\n",
    "        a_id INT, \n",
    "        tag VARCHAR(50), \n",
    "        PRIMARY KEY (a_id, tag),\n",
    "        FOREIGN KEY (a_id)\n",
    "          REFERENCES artikel (id)\n",
    "          ON UPDATE CASCADE ON DELETE CASCADE\n",
    "\n",
    "    )\n",
    "    \"\"\"\n",
    "    ,\n",
    "    \"\"\"\n",
    "    CREATE TABLE keywords (\n",
    "        a_id INT, \n",
    "        keyword VARCHAR(50),\n",
    "        PRIMARY KEY (a_id, keyword),\n",
    "        FOREIGN KEY (a_id)\n",
    "          REFERENCES artikel (id)\n",
    "          ON UPDATE CASCADE ON DELETE CASCADE\n",
    "    )\n",
    "    \"\"\"\n",
    "    ,\n",
    "    \"\"\"\n",
    "    CREATE TABLE metakeywords (\n",
    "        a_id INT, \n",
    "        mkeyword VARCHAR(50),\n",
    "        PRIMARY KEY (a_id, mkeyword),\n",
    "        FOREIGN KEY (a_id)\n",
    "          REFERENCES artikel (id)\n",
    "          ON UPDATE CASCADE ON DELETE CASCADE\n",
    "    )\n",
    "    \"\"\"\n",
    "]\n",
    "\n",
    "\n",
    "\n",
    "conn = psycopg2.connect(dbname=\"fakenewsdb\", user=\"postgres\", password=\"1234\")\n",
    "\n",
    "cursor = conn.cursor()\n",
    "\n",
    "for table in tables:\n",
    "    cursor.execute(\"DROP TABLE \" + table + \" CASCADE\")\n",
    "\n",
    "\n",
    "for command in sql_table_commands:\n",
    "    cursor.execute(command)\n",
    "\n",
    "conn.commit()\n",
    "conn.close()\n",
    "\n",
    "\n",
    "\n",
    "\"CREATE TABLE artikel(id INT, domain STRING, type STRING, url STRING, content STRING, scraped_at TIMESTAMP, inserted_at TIMESTAMP, updated_at TIMESTAMP, title STRING, meta_description STRING, summary STRING, source STRING, PRIMARY KEY (id))\"\n",
    "\"CREATE TABLE tags(a_id INT, tag STRING, PRIMARY KEY (a_id, tag))\"\n",
    "\"CREATE TABLE keywords(a_id INT, keyword STRING, PRIMARY KEY (a_id, keyword))\"\n",
    "\"CREATE TABLE metakeywords(a_id INT, mkeyword STRING,PRIMARY KEY (a_id, mkeyword))\"\n",
    "\n",
    "\n",
    "\n",
    "#Read CSV\n",
    "data = pd.read_csv(\"1mio-raw.csv\", delimiter=\",\", nrows=100)\n",
    "print(data.keys())\n"
   ]
  },
  {
   "cell_type": "code",
   "execution_count": 10,
   "metadata": {},
   "outputs": [
    {
     "data": {
      "text/plain": [
       "('id', 'tags')"
      ]
     },
     "execution_count": 10,
     "metadata": {},
     "output_type": "execute_result"
    }
   ],
   "source": [
    "\n",
    "\n",
    "def projectrow2tuple(fields, row):\n",
    "    return tuple(map(lambda f: row[f], fields))\n",
    "\n",
    "def insertstring(table, n):\n",
    "    return \"INSERT INTO {} VALUES ({})\".format(table, \", \".join(map(lambda _: '%s', range(n))))\n",
    "    \n",
    "\n",
    "\n",
    "def insert_csv2rows(csv_row):\n",
    "    A_domain = ['id', 'domain', 'type', 'url', 'content', 'scraped_at',\n",
    "       'inserted_at', 'updated_at', 'title', 'meta_description', 'tags', 'summary', 'source']\n",
    "    AU_domain = ['id', 'tags']\n",
    "    K_domain = ['id', 'keywords']\n",
    "    MK_domain = ['id', 'meta_keywords']\n",
    "    \n",
    "    Atuple = projectrow2tuple(A_domain, csv_row)\n",
    "    (id, tags) = projectrow2tuple(AU_domain, csv_row)\n",
    "    (_, kws) = projectrow2tuple(K_domain, csv_row)\n",
    "    (_, mkws) = projectrow2tuple(MK_domain, csv_row)\n",
    "\n",
    "    Ainsert = insertstring(\"A\", len(Atuple))\n",
    "    AUinsert = insertstring(\"AU\", 2)\n",
    "    Kinsert = insertstring(\"K\", 2)\n",
    "    MKinsert = insertstring(\"MK\", 2)\n",
    "    \n",
    "    \n",
    "\n",
    "\n",
    "#For each line\n",
    "    #Insert appropriate rows in DB\n",
    "\n",
    "\n",
    "\n",
    "\n",
    "\n",
    "#qurrey the database \n"
   ]
  },
  {
   "cell_type": "code",
   "execution_count": 7,
   "metadata": {},
   "outputs": [
    {
     "data": {
      "text/plain": [
       "13"
      ]
     },
     "execution_count": 7,
     "metadata": {},
     "output_type": "execute_result"
    }
   ],
   "source": [
    "len(['id', 'domain', 'type', 'url', 'content', 'scraped_at',\n",
    "       'inserted_at', 'updated_at', 'title', 'meta_description', 'tags', 'summary', 'source'])"
   ]
  }
 ],
 "metadata": {
  "interpreter": {
   "hash": "916dbcbb3f70747c44a77c7bcd40155683ae19c65e1c03b4aa3499c5328201f1"
  },
  "kernelspec": {
   "display_name": "Python 3.9.7 64-bit",
   "language": "python",
   "name": "python3"
  },
  "language_info": {
   "codemirror_mode": {
    "name": "ipython",
    "version": 3
   },
   "file_extension": ".py",
   "mimetype": "text/x-python",
   "name": "python",
   "nbconvert_exporter": "python",
   "pygments_lexer": "ipython3",
   "version": "3.7.3"
  },
  "orig_nbformat": 4
 },
 "nbformat": 4,
 "nbformat_minor": 2
}
