{
 "cells": [
  {
   "cell_type": "code",
   "execution_count": 1,
   "metadata": {},
   "outputs": [],
   "source": [
    "import numpy as np\n",
    "import pandas as pd\n",
    "import matplotlib.pyplot as plt\n",
    "\n",
    "from sklearn.feature_extraction.text import CountVectorizer\n",
    "from sklearn.feature_extraction.text import TfidfVectorizer\n",
    "from sklearn.model_selection import train_test_split\n",
    "from sklearn.model_selection import GridSearchCV\n",
    "from sklearn.model_selection import PredefinedSplit\n",
    "from sklearn import linear_model, metrics, naive_bayes, svm, neural_network, ensemble, neighbors\n",
    "\n",
    "\n",
    "\n",
    "import pickle"
   ]
  },
  {
   "cell_type": "code",
   "execution_count": 2,
   "metadata": {},
   "outputs": [],
   "source": [
    "X_train = pd.read_csv('new data/X_trainFNC.csv').squeeze()\n",
    "X_test = pd.read_csv('new data/X_testFNC.csv').squeeze()\n",
    "X_valid = pd.read_csv('new data/X_validFNC.csv').squeeze()\n",
    "y_train = pd.read_csv('new data/y_trainFNC.csv').squeeze()\n",
    "y_test = pd.read_csv('new data/y_testFNC.csv').squeeze()\n",
    "y_valid = pd.read_csv('new data/y_validFNC.csv').squeeze()"
   ]
  },
  {
   "cell_type": "code",
   "execution_count": 3,
   "metadata": {},
   "outputs": [],
   "source": [
    "X_liar = pd.read_csv('data/X_liar.csv').squeeze()\n",
    "y_liar = pd.read_csv('data/y_liar.csv').squeeze()"
   ]
  },
  {
   "cell_type": "code",
   "execution_count": 16,
   "metadata": {},
   "outputs": [],
   "source": [
    "X_wikinews = pd.read_csv('data/X_wikinews.csv').squeeze()\n",
    "y_wikinews = pd.read_csv('data/y_wikinews.csv').squeeze()"
   ]
  },
  {
   "cell_type": "code",
   "execution_count": 5,
   "metadata": {},
   "outputs": [],
   "source": [
    "vectorizer = TfidfVectorizer(       \n",
    "    lowercase=False, \n",
    "    ngram_range=(1,1), \n",
    "    token_pattern=r\"(?u)\\b\\w\\w+\\b|<DATE>|<NUM>|<EMAIL>|<URL>\",\n",
    "    min_df=3\n",
    ")"
   ]
  },
  {
   "cell_type": "code",
   "execution_count": 6,
   "metadata": {},
   "outputs": [
    {
     "data": {
      "text/plain": [
       "94077"
      ]
     },
     "execution_count": 6,
     "metadata": {},
     "output_type": "execute_result"
    }
   ],
   "source": [
    "vectorizer.fit(X_train)\n",
    "\n",
    "len(vectorizer.get_feature_names())"
   ]
  },
  {
   "cell_type": "code",
   "execution_count": 12,
   "metadata": {},
   "outputs": [],
   "source": [
    "n_train = X_train.shape[0]\n",
    "n_val = X_valid.shape[0]\n",
    "\n",
    "X_trainval = np.concatenate((X_train, X_valid))\n",
    "y_trainval = np.concatenate((y_train, y_valid))\n",
    "\n",
    "test_fold = -1*np.ones(X_trainval.shape[0])\n",
    "test_fold[n_train:] = 0\n",
    "pds = PredefinedSplit(test_fold)\n",
    "\n",
    "TFIDF_Xtrainval = vectorizer.transform(X_trainval)\n",
    "\n",
    "TFIDF_Xtrain = vectorizer.transform(X_train)\n",
    "TFIDF_Xvalid = vectorizer.transform(X_valid)\n",
    "TFIDF_Xtest = vectorizer.transform(X_test)"
   ]
  },
  {
   "cell_type": "code",
   "execution_count": 8,
   "metadata": {},
   "outputs": [],
   "source": [
    "TFIDF_Xliar = vectorizer.transform(X_liar)"
   ]
  },
  {
   "cell_type": "code",
   "execution_count": 17,
   "metadata": {},
   "outputs": [],
   "source": [
    "TFIDF_Xwikinews = vectorizer.transform(X_wikinews)"
   ]
  },
  {
   "cell_type": "code",
   "execution_count": 27,
   "metadata": {},
   "outputs": [
    {
     "name": "stderr",
     "output_type": "stream",
     "text": [
      "c:\\Users\\Theo\\Anaconda3\\lib\\site-packages\\sklearn\\base.py:315: UserWarning: Trying to unpickle estimator LogisticRegression from version 1.0.2 when using version 0.24.2. This might lead to breaking code or invalid results. Use at your own risk.\n",
      "  UserWarning)\n"
     ]
    },
    {
     "ename": "FileNotFoundError",
     "evalue": "[Errno 2] No such file or directory: 'ANN_tuned.sav'",
     "output_type": "error",
     "traceback": [
      "\u001b[1;31m---------------------------------------------------------------------------\u001b[0m",
      "\u001b[1;31mFileNotFoundError\u001b[0m                         Traceback (most recent call last)",
      "\u001b[1;32m~\\AppData\\Local\\Temp\\ipykernel_21696\\2915199102.py\u001b[0m in \u001b[0;36m<module>\u001b[1;34m\u001b[0m\n\u001b[0;32m     10\u001b[0m \u001b[1;31m#SVM_tuned = pickle.load(open('SVM_tuned.sav', 'rb'))\u001b[0m\u001b[1;33m\u001b[0m\u001b[1;33m\u001b[0m\u001b[1;33m\u001b[0m\u001b[0m\n\u001b[0;32m     11\u001b[0m \u001b[1;31m#ANN_base = pickle.load(open('ANN_base.sav', 'rb'))\u001b[0m\u001b[1;33m\u001b[0m\u001b[1;33m\u001b[0m\u001b[1;33m\u001b[0m\u001b[0m\n\u001b[1;32m---> 12\u001b[1;33m \u001b[0mAMM_tuned\u001b[0m \u001b[1;33m=\u001b[0m \u001b[0mpickle\u001b[0m\u001b[1;33m.\u001b[0m\u001b[0mload\u001b[0m\u001b[1;33m(\u001b[0m\u001b[0mopen\u001b[0m\u001b[1;33m(\u001b[0m\u001b[1;34m'ANN_tuned.sav'\u001b[0m\u001b[1;33m,\u001b[0m \u001b[1;34m'rb'\u001b[0m\u001b[1;33m)\u001b[0m\u001b[1;33m)\u001b[0m\u001b[1;33m\u001b[0m\u001b[1;33m\u001b[0m\u001b[0m\n\u001b[0m",
      "\u001b[1;31mFileNotFoundError\u001b[0m: [Errno 2] No such file or directory: 'ANN_tuned.sav'"
     ]
    }
   ],
   "source": [
    "LR_base = pickle.load(open('new models/LR_base.sav', 'rb')) # 1 min\n",
    "LR_tuned = pickle.load(open('new models/LR_tuned.sav', 'rb')) # fast\n",
    "NB_base = pickle.load(open('new models/NB_base.sav', 'rb')) # fast\n",
    "NB_tuned = pickle.load(open('new models/NB_tuned.sav', 'rb')) # fast\n",
    "RF_base = pickle.load(open('new models/RF_base.sav', 'rb')) # 10 mins\n",
    "RF_tuned = pickle.load(open('new models/RF_tuned.sav', 'rb')) # 20 mins\n",
    "KNN_base = pickle.load(open('new models/KNN_base.sav', 'rb')) # 4 sec\n",
    "KNN_tuned = pickle.load(open('new models/KNN_base.sav', 'rb'))\n",
    "#SVM_base = pickle.load(open('SVM_base.sav', 'rb'))\n",
    "#SVM_tuned = pickle.load(open('SVM_tuned.sav', 'rb'))\n",
    "#ANN_base = pickle.load(open('ANN_base.sav', 'rb'))\n",
    "AMM_tuned = pickle.load(open('new models/ANN_tuned.sav', 'rb'))"
   ]
  },
  {
   "cell_type": "code",
   "execution_count": 26,
   "metadata": {},
   "outputs": [
    {
     "name": "stdout",
     "output_type": "stream",
     "text": [
      "Base Accuracry: 0.880\n",
      "Tuned Accuracy: 0.882\n"
     ]
    }
   ],
   "source": [
    "print(f'Base Accuracry: {LR_base.score(TFIDF_Xtrain, y_train):.3f}')\n",
    "print(f'Tuned Accuracy: {LR_tuned.score(TFIDF_Xtrain, y_train):.3f}')"
   ]
  },
  {
   "cell_type": "code",
   "execution_count": 19,
   "metadata": {},
   "outputs": [
    {
     "name": "stdout",
     "output_type": "stream",
     "text": [
      "Base Accuracry: 0.838\n",
      "Tuned Accuracy: 0.851\n",
      "LIAR Accuracy: 0.644\n",
      "WN Accuracy: 0.699\n"
     ]
    }
   ],
   "source": [
    "print(f'Base Accuracry: {LR_base.score(TFIDF_Xtest, y_test):.3f}')\n",
    "print(f'Tuned Accuracy: {LR_tuned.score(TFIDF_Xtest, y_test):.3f}')\n",
    "print(f'LIAR Accuracy: {LR_tuned.score(TFIDF_Xliar, y_liar):.3f}')\n",
    "print(f'WN Accuracy: {LR_tuned.score(TFIDF_Xwikinews, y_wikinews):.3f}')"
   ]
  },
  {
   "cell_type": "code",
   "execution_count": 12,
   "metadata": {},
   "outputs": [],
   "source": [
    "LRbase_pp = LR_base.predict_proba(TFIDF_Xtest)[::,1]\n",
    "LRtuned_pp = LR_tuned.predict_proba(TFIDF_Xtest)[::,1]\n",
    "\n",
    "LRbase_fpr, LRbase_tpr, _ = metrics.roc_curve(y_test, LRbase_pp)\n",
    "LRtuned_fpr, LRtuned_tpr, _ = metrics.roc_curve(y_test, LRtuned_pp)"
   ]
  },
  {
   "cell_type": "code",
   "execution_count": 13,
   "metadata": {},
   "outputs": [
    {
     "data": {
      "image/png": "[encoded data removed]",
      "text/plain": [
       "<Figure size 576x576 with 1 Axes>"
      ]
     },
     "metadata": {
      "needs_background": "light"
     },
     "output_type": "display_data"
    }
   ],
   "source": [
    "plt.subplots(1, figsize=(8,8))\n",
    "\n",
    "plt.title('Receiver Operating Characteristic - Base Log Regression')\n",
    "plt.plot(LRbase_fpr, LRbase_tpr)\n",
    "plt.plot(LRtuned_fpr, LRtuned_tpr)\n",
    "plt.plot([0, 1], ls=\"--\")\n",
    "plt.ylabel('True Positive Rate')\n",
    "plt.xlabel('False Positive Rate')\n",
    "plt.show()"
   ]
  },
  {
   "cell_type": "code",
   "execution_count": 25,
   "metadata": {},
   "outputs": [
    {
     "name": "stdout",
     "output_type": "stream",
     "text": [
      "Base Accuracry: 0.809\n",
      "Tuned Accuracy: 0.840\n"
     ]
    }
   ],
   "source": [
    "print(f'Base Accuracry: {NB_base.score(TFIDF_Xtrain, y_train):.3f}')\n",
    "print(f'Tuned Accuracy: {NB_tuned.score(TFIDF_Xtrain, y_train):.3f}')"
   ]
  },
  {
   "cell_type": "code",
   "execution_count": 20,
   "metadata": {},
   "outputs": [
    {
     "name": "stdout",
     "output_type": "stream",
     "text": [
      "Base Accuracry: 0.785\n",
      "Tuned Accuracy: 0.787\n",
      "LIAR Accuracy: 0.613\n",
      "WN Accuracy: 0.421\n"
     ]
    }
   ],
   "source": [
    "print(f'Base Accuracry: {NB_base.score(TFIDF_Xtest, y_test):.3f}')\n",
    "print(f'Tuned Accuracy: {NB_tuned.score(TFIDF_Xtest, y_test):.3f}')\n",
    "print(f'LIAR Accuracy: {NB_tuned.score(TFIDF_Xliar, y_liar):.3f}')\n",
    "print(f'WN Accuracy: {NB_tuned.score(TFIDF_Xwikinews, y_wikinews):.3f}')"
   ]
  },
  {
   "cell_type": "code",
   "execution_count": 15,
   "metadata": {},
   "outputs": [],
   "source": [
    "NBbase_pp = NB_base.predict_proba(TFIDF_Xtest)[::,1]\n",
    "NBtuned_pp = NB_tuned.predict_proba(TFIDF_Xtest)[::,1]\n",
    "\n",
    "NBbase_fpr, NBbase_tpr, _ = metrics.roc_curve(y_test, NBbase_pp)\n",
    "NBtuned_fpr, NBtuned_tpr, _ = metrics.roc_curve(y_test, NBtuned_pp)"
   ]
  },
  {
   "cell_type": "code",
   "execution_count": 16,
   "metadata": {},
   "outputs": [
    {
     "data": {
      "image/png": "[encoded data removed]",
      "text/plain": [
       "<Figure size 576x576 with 1 Axes>"
      ]
     },
     "metadata": {
      "needs_background": "light"
     },
     "output_type": "display_data"
    }
   ],
   "source": [
    "plt.subplots(1, figsize=(8,8))\n",
    "\n",
    "plt.title('Receiver Operating Characteristic - Naive Bayes')\n",
    "plt.plot(NBbase_fpr, NBbase_tpr)\n",
    "plt.plot(NBtuned_fpr, NBtuned_tpr)\n",
    "plt.plot([0, 1], ls=\"--\")\n",
    "plt.ylabel('True Positive Rate')\n",
    "plt.xlabel('False Positive Rate')\n",
    "plt.show()"
   ]
  },
  {
   "cell_type": "code",
   "execution_count": null,
   "metadata": {},
   "outputs": [],
   "source": [
    "print (f'Base Accuracry: {SVM_base.score(TFIDF_Xtest, y_test):.3f}\\nTuned Accuracy: {SVM_tuned.score(TFIDF_Xtest, y_test):.3f}')"
   ]
  },
  {
   "cell_type": "code",
   "execution_count": null,
   "metadata": {},
   "outputs": [],
   "source": [
    "SVMbase_pp = SVM_base.predict_proba(TFIDF_Xtest)[::,1]\n",
    "SVMtuned_pp = SVM_tuned.predict_proba(TFIDF_Xtest)[::,1]\n",
    "\n",
    "SVMbase_fpr, SVMbase_tpr, _ = metrics.roc_curve(y_test, SVMbase_pp)\n",
    "SVMtuned_fpr, SVMtuned_tpr, _ = metrics.roc_curve(y_test, SVMtuned_pp)"
   ]
  },
  {
   "cell_type": "code",
   "execution_count": null,
   "metadata": {},
   "outputs": [],
   "source": [
    "plt.subplots(1, figsize=(8,8))\n",
    "\n",
    "plt.title('Receiver Operating Characteristic - Base Log Regression')\n",
    "plt.plot(SVMbase_fpr, SVMbase_tpr)\n",
    "plt.plot(SVMtuned_fpr, SVMtuned_tpr)\n",
    "plt.plot([0, 1], ls=\"--\")\n",
    "plt.ylabel('True Positive Rate')\n",
    "plt.xlabel('False Positive Rate')\n",
    "plt.show()"
   ]
  },
  {
   "cell_type": "code",
   "execution_count": null,
   "metadata": {},
   "outputs": [],
   "source": [
    "print (f'Base Accuracry: {ANN_base.score(TFIDF_Xtest, y_test):.3f}\\nTuned Accuracy: {ANN_tuned.score(TFIDF_Xtest, y_test):.3f}')"
   ]
  },
  {
   "cell_type": "code",
   "execution_count": 24,
   "metadata": {},
   "outputs": [
    {
     "ename": "NameError",
     "evalue": "name 'ANN_base' is not defined",
     "output_type": "error",
     "traceback": [
      "\u001b[1;31m---------------------------------------------------------------------------\u001b[0m",
      "\u001b[1;31mNameError\u001b[0m                                 Traceback (most recent call last)",
      "\u001b[1;32m~\\AppData\\Local\\Temp/ipykernel_36764/3857954422.py\u001b[0m in \u001b[0;36m<module>\u001b[1;34m\u001b[0m\n\u001b[1;32m----> 1\u001b[1;33m \u001b[0mANNbase_pp\u001b[0m \u001b[1;33m=\u001b[0m \u001b[0mANN_base\u001b[0m\u001b[1;33m.\u001b[0m\u001b[0mpredict_proba\u001b[0m\u001b[1;33m(\u001b[0m\u001b[0mTFIDF_Xtest\u001b[0m\u001b[1;33m)\u001b[0m\u001b[1;33m[\u001b[0m\u001b[1;33m:\u001b[0m\u001b[1;33m:\u001b[0m\u001b[1;33m,\u001b[0m\u001b[1;36m1\u001b[0m\u001b[1;33m]\u001b[0m\u001b[1;33m\u001b[0m\u001b[1;33m\u001b[0m\u001b[0m\n\u001b[0m\u001b[0;32m      2\u001b[0m \u001b[0mANNtuned_pp\u001b[0m \u001b[1;33m=\u001b[0m \u001b[0mANN_tuned\u001b[0m\u001b[1;33m.\u001b[0m\u001b[0mpredict_proba\u001b[0m\u001b[1;33m(\u001b[0m\u001b[0mTFIDF_Xtest\u001b[0m\u001b[1;33m)\u001b[0m\u001b[1;33m[\u001b[0m\u001b[1;33m:\u001b[0m\u001b[1;33m:\u001b[0m\u001b[1;33m,\u001b[0m\u001b[1;36m1\u001b[0m\u001b[1;33m]\u001b[0m\u001b[1;33m\u001b[0m\u001b[1;33m\u001b[0m\u001b[0m\n\u001b[0;32m      3\u001b[0m \u001b[1;33m\u001b[0m\u001b[0m\n\u001b[0;32m      4\u001b[0m \u001b[0mANNbase_fpr\u001b[0m\u001b[1;33m,\u001b[0m \u001b[0mANNbase_tpr\u001b[0m\u001b[1;33m,\u001b[0m \u001b[0m_\u001b[0m \u001b[1;33m=\u001b[0m \u001b[0mmetrics\u001b[0m\u001b[1;33m.\u001b[0m\u001b[0mroc_curve\u001b[0m\u001b[1;33m(\u001b[0m\u001b[0my_test\u001b[0m\u001b[1;33m,\u001b[0m \u001b[0mANNbase_pp\u001b[0m\u001b[1;33m)\u001b[0m\u001b[1;33m\u001b[0m\u001b[1;33m\u001b[0m\u001b[0m\n\u001b[0;32m      5\u001b[0m \u001b[0mANNtuned_fpr\u001b[0m\u001b[1;33m,\u001b[0m \u001b[0mANNtuned_tpr\u001b[0m\u001b[1;33m,\u001b[0m \u001b[0m_\u001b[0m \u001b[1;33m=\u001b[0m \u001b[0mmetrics\u001b[0m\u001b[1;33m.\u001b[0m\u001b[0mroc_curve\u001b[0m\u001b[1;33m(\u001b[0m\u001b[0my_test\u001b[0m\u001b[1;33m,\u001b[0m \u001b[0mANNtuned_pp\u001b[0m\u001b[1;33m)\u001b[0m\u001b[1;33m\u001b[0m\u001b[1;33m\u001b[0m\u001b[0m\n",
      "\u001b[1;31mNameError\u001b[0m: name 'ANN_base' is not defined"
     ]
    }
   ],
   "source": [
    "ANNbase_pp = ANN_base.predict_proba(TFIDF_Xtest)[::,1]\n",
    "ANNtuned_pp = ANN_tuned.predict_proba(TFIDF_Xtest)[::,1]\n",
    "\n",
    "ANNbase_fpr, ANNbase_tpr, _ = metrics.roc_curve(y_test, ANNbase_pp)\n",
    "ANNtuned_fpr, ANNtuned_tpr, _ = metrics.roc_curve(y_test, ANNtuned_pp)"
   ]
  },
  {
   "cell_type": "code",
   "execution_count": null,
   "metadata": {},
   "outputs": [],
   "source": [
    "plt.subplots(1, figsize=(8,8))\n",
    "\n",
    "plt.title('Receiver Operating Characteristic - Naive Bayes')\n",
    "plt.plot(ANNbase_fpr, ANNbase_tpr)\n",
    "plt.plot(ANNtuned_fpr, ANNtuned_tpr)\n",
    "plt.plot([0, 1], ls=\"--\")\n",
    "plt.ylabel('True Positive Rate')\n",
    "plt.xlabel('False Positive Rate')\n",
    "plt.show()"
   ]
  },
  {
   "cell_type": "code",
   "execution_count": 23,
   "metadata": {},
   "outputs": [
    {
     "name": "stdout",
     "output_type": "stream",
     "text": [
      "Base Accuracry: 1.000\n",
      "Tuned Accuracy: 1.000\n"
     ]
    }
   ],
   "source": [
    "print(f'Base Accuracry: {RF_base.score(TFIDF_Xtrain, y_train):.3f}')\n",
    "print(f'Tuned Accuracy: {RF_tuned.score(TFIDF_Xtrain, y_train):.3f}')"
   ]
  },
  {
   "cell_type": "code",
   "execution_count": 21,
   "metadata": {},
   "outputs": [
    {
     "name": "stdout",
     "output_type": "stream",
     "text": [
      "Base Accuracry: 0.816\n",
      "Tuned Accuracy: 0.818\n",
      "LIAR Accuracy: 0.702\n",
      "WN Accuracy: 0.730\n"
     ]
    }
   ],
   "source": [
    "print(f'Base Accuracry: {RF_base.score(TFIDF_Xtest, y_test):.3f}')\n",
    "print(f'Tuned Accuracy: {RF_tuned.score(TFIDF_Xtest, y_test):.3f}')\n",
    "print(f'LIAR Accuracy: {RF_tuned.score(TFIDF_Xliar, y_liar):.3f}')\n",
    "print(f'WN Accuracy: {RF_tuned.score(TFIDF_Xwikinews, y_wikinews):.3f}')"
   ]
  },
  {
   "cell_type": "code",
   "execution_count": 22,
   "metadata": {},
   "outputs": [
    {
     "name": "stdout",
     "output_type": "stream",
     "text": [
      "Base Accuracry: 0.737\n",
      "Tuned Accuracy: 0.737\n",
      "LIAR Accuracy: 0.553\n",
      "WN Accuracy: 0.451\n"
     ]
    }
   ],
   "source": [
    "print(f'Base Accuracry: {KNN_base.score(TFIDF_Xtest, y_test):.3f}')\n",
    "print(f'Tuned Accuracy: {KNN_tuned.score(TFIDF_Xtest, y_test):.3f}')\n",
    "print(f'LIAR Accuracy: {KNN_tuned.score(TFIDF_Xliar, y_liar):.3f}')\n",
    "print(f'WN Accuracy: {KNN_tuned.score(TFIDF_Xwikinews, y_wikinews):.3f}')"
   ]
  }
 ],
 "metadata": {
  "interpreter": {
   "hash": "65cc6a082bbdb51aba06bbf1d78c1b93987957587a078c9335da8e443a5b7d28"
  },
  "kernelspec": {
   "display_name": "Python 3.7.3 ('base')",
   "language": "python",
   "name": "python3"
  },
  "language_info": {
   "codemirror_mode": {
    "name": "ipython",
    "version": 3
   },
   "file_extension": ".py",
   "mimetype": "text/x-python",
   "name": "python",
   "nbconvert_exporter": "python",
   "pygments_lexer": "ipython3",
   "version": "3.7.3"
  },
  "orig_nbformat": 4
 },
 "nbformat": 4,
 "nbformat_minor": 2
}
