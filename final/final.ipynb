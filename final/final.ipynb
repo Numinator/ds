{
 "cells": [
  {
   "cell_type": "markdown",
   "metadata": {},
   "source": [
    "## FINAL PROJECT\n",
    "Frederik Kallestrup Mastratis (qln174)  \n",
    "Dongyu Liu (dlf327)  \n",
    "Shamim Tariq Akram (zmx145)  \n",
    "Celina Aurora Nguyen (szf345)  \n",
    "\n",
    "Group 21"
   ]
  },
  {
   "cell_type": "markdown",
   "metadata": {},
   "source": [
    "## PACKAGES"
   ]
  },
  {
   "cell_type": "code",
   "execution_count": 2,
   "metadata": {},
   "outputs": [
    {
     "ename": "ModuleNotFoundError",
     "evalue": "No module named 'tensorflow'",
     "output_type": "error",
     "traceback": [
      "\u001b[1;31m---------------------------------------------------------------------------\u001b[0m",
      "\u001b[1;31mModuleNotFoundError\u001b[0m                       Traceback (most recent call last)",
      "\u001b[1;32m~\\AppData\\Local\\Temp/ipykernel_29288/3031981267.py\u001b[0m in \u001b[0;36m<module>\u001b[1;34m\u001b[0m\n\u001b[0;32m     16\u001b[0m \u001b[1;32mfrom\u001b[0m \u001b[0msklearn\u001b[0m \u001b[1;32mimport\u001b[0m \u001b[0mlinear_model\u001b[0m\u001b[1;33m,\u001b[0m \u001b[0mmetrics\u001b[0m\u001b[1;33m,\u001b[0m \u001b[0mnaive_bayes\u001b[0m\u001b[1;33m,\u001b[0m \u001b[0msvm\u001b[0m\u001b[1;33m\u001b[0m\u001b[1;33m\u001b[0m\u001b[0m\n\u001b[0;32m     17\u001b[0m \u001b[1;33m\u001b[0m\u001b[0m\n\u001b[1;32m---> 18\u001b[1;33m \u001b[1;32mfrom\u001b[0m \u001b[0mkeras\u001b[0m\u001b[1;33m.\u001b[0m\u001b[0mmodels\u001b[0m \u001b[1;32mimport\u001b[0m \u001b[0mSequential\u001b[0m\u001b[1;33m\u001b[0m\u001b[1;33m\u001b[0m\u001b[0m\n\u001b[0m\u001b[0;32m     19\u001b[0m \u001b[1;33m\u001b[0m\u001b[0m\n\u001b[0;32m     20\u001b[0m \u001b[1;32mimport\u001b[0m \u001b[0mpsycopg2\u001b[0m\u001b[1;33m\u001b[0m\u001b[1;33m\u001b[0m\u001b[0m\n",
      "\u001b[1;32mc:\\Users\\Theo\\Anaconda3\\lib\\site-packages\\keras\\__init__.py\u001b[0m in \u001b[0;36m<module>\u001b[1;34m\u001b[0m\n\u001b[0;32m     19\u001b[0m \"\"\"\n\u001b[0;32m     20\u001b[0m \u001b[1;31m# pylint: disable=unused-import\u001b[0m\u001b[1;33m\u001b[0m\u001b[1;33m\u001b[0m\u001b[1;33m\u001b[0m\u001b[0m\n\u001b[1;32m---> 21\u001b[1;33m \u001b[1;32mfrom\u001b[0m \u001b[0mtensorflow\u001b[0m\u001b[1;33m.\u001b[0m\u001b[0mpython\u001b[0m \u001b[1;32mimport\u001b[0m \u001b[0mtf2\u001b[0m\u001b[1;33m\u001b[0m\u001b[1;33m\u001b[0m\u001b[0m\n\u001b[0m\u001b[0;32m     22\u001b[0m \u001b[1;32mfrom\u001b[0m \u001b[0mkeras\u001b[0m \u001b[1;32mimport\u001b[0m \u001b[0mdistribute\u001b[0m\u001b[1;33m\u001b[0m\u001b[1;33m\u001b[0m\u001b[0m\n\u001b[0;32m     23\u001b[0m \u001b[1;33m\u001b[0m\u001b[0m\n",
      "\u001b[1;31mModuleNotFoundError\u001b[0m: No module named 'tensorflow'"
     ]
    }
   ],
   "source": [
    "import numpy as np\n",
    "import pandas as pd\n",
    "import matplotlib.pyplot as plt\n",
    "\n",
    "import re\n",
    "\n",
    "from cleantext import clean\n",
    "from nltk.tokenize import word_tokenize\n",
    "from nltk.corpus import stopwords\n",
    "from nltk.stem.snowball import SnowballStemmer\n",
    "\n",
    "from sklearn.feature_extraction.text import CountVectorizer\n",
    "from sklearn.feature_extraction.text import TfidfVectorizer\n",
    "from sklearn.model_selection import train_test_split\n",
    "from sklearn.model_selection import GridSearchCV\n",
    "from sklearn import linear_model, metrics, naive_bayes, svm\n",
    "\n",
    "from keras.models import Sequential\n",
    "\n",
    "import psycopg2"
   ]
  },
  {
   "cell_type": "markdown",
   "metadata": {},
   "source": [
    "## TEXT CLEANER"
   ]
  },
  {
   "cell_type": "code",
   "execution_count": 37,
   "metadata": {},
   "outputs": [],
   "source": [
    "DATE = '3[01]|[12][0-9]|0?[1-9]'\n",
    "DATE_SUFFIXES = 'st|th|rd|nd'\n",
    "DAY = '(mon|tues|thurs|fri|sun)(day)?|wed(nesday)?|sat(urday)?'\n",
    "YEAR = '([12][0-9])?[0-9]{2}'\n",
    "MONTHS = 'jan\\.?(uary)?|feb\\.?(ruary)?|mar\\.?(ch)?|apr\\.?(il)?|may|jun\\.?(e)?|jul\\.?(y)?|aug\\.?(ust)?|sep\\.?(tember)?|oct\\.?(ober)?|nov\\.?(ember)?|dec\\.?(ember)?'\n",
    "\n",
    "# format: pretty much all digit formats DD/MM/YY etc.\n",
    "fd1 = '((%s)\\s,?)?\\d{1,4}[\\\\/-]\\d{1,2}[\\\\/-]\\d{1,4}' % (DAY)\n",
    "# format: DD-DD MON (YYYY)\n",
    "fd2 = '((%s)\\s,?)?(%s)(%s)?(\\s?-\\s?(%s))?\\s(%s)(\\s?,?\\s(%s))?' % (DAY, DATE, DATE_SUFFIXES, DATE, MONTHS, YEAR)\n",
    "# format: MON DD-DD (YYYY)\n",
    "fd3 = '((%s)\\s,?)?(%s)\\s(%s)(%s)?(\\s?-\\s?(%s))?(\\s?,?\\s(%s))?' % (DAY, MONTHS, DATE, DATE_SUFFIXES, DATE, YEAR)\n",
    "# format: MON YYYY\n",
    "fd4 = '(%s)\\s(%s)?' % (MONTHS, YEAR)\n",
    "\n",
    "DATES_REGEX = re.compile(r\"(%s)|(%s)|(%s)|(%s)\" % (fd1, fd2, fd3, fd4))\n",
    "\n",
    "def clean_text(txt):\n",
    "    txt = txt.lower()\n",
    "\n",
    "    txt = re.sub(r\"\\s+\", \" \", txt)\n",
    "    regex = {\" EMAIL \" : r\"\\w+@\\w+(\\.[a-z]{2})?\\.[a-z]{2,3}\",\n",
    "        \" URL \" : r\"([a-z\\d]+://)?[a-z]+[a-z\\d]*(\\.[a-z\\d\\-\\._~]+)+(/[a-z\\d\\-\\._~]*|(\\?[a-z\\d\\-\\._~]+=[a-z\\d\\-\\._~]+))*\",\n",
    "        \" DATE \" : DATES_REGEX,\n",
    "        \" NUM \" : r\"[+-]?((\\d+(,|\\.))*\\d+)\"}\n",
    "\n",
    "    for k in regex.keys():\n",
    "      txt = re.sub(regex[k], k, txt)\n",
    "\n",
    "    txt = re.sub(r\"/\", \"\", txt)\n",
    "\n",
    "    # Extra cleaning with cleantext library\n",
    "    txt = clean(txt,\n",
    "      lower=False,\n",
    "      normalize_whitespace=True,\n",
    "      no_line_breaks=True,\n",
    "      strip_lines=True,\n",
    "      no_numbers=True, replace_with_number= ' NUM ',\n",
    "      no_urls=True, replace_with_url=' URL ',\n",
    "      no_emails=True, replace_with_email=' EMAIL ',\n",
    "      no_punct=True, replace_with_punct=''\n",
    "    )\n",
    "\n",
    "    tokens = word_tokenize(txt)\n",
    "    prepostfix = lambda t: \"<\"+t+\">\" if t.isupper() else t\n",
    "    tokens = list(map(prepostfix, tokens))\n",
    "\n",
    "    stop_words = set(stopwords.words('english'))\n",
    "    tokens = [w for w in tokens if not w in stop_words]\n",
    "\n",
    "    stemmer = SnowballStemmer(language='english')\n",
    "    tokens = [stemmer.stem(w) if w[0] != '<' else w for w in tokens]\n",
    "    \n",
    "    return tokens"
   ]
  },
  {
   "cell_type": "code",
   "execution_count": 38,
   "metadata": {},
   "outputs": [],
   "source": [
    "##lemmatize\n",
    "def tokenize_mood(txt):\n",
    "  tokens = nltk.sent_tokenize(txt)\n",
    "  prepostfix = lambda t: \"<\"+t+\">\" if t.isupper() else t\n",
    "  return map(lambda sentence: map(prepostfix, sentence), tokens)\n",
    "\n",
    "def mood_mapper(mood):\n",
    "  if mood.startswith('J'):\n",
    "        return wordnet.ADJ\n",
    "  elif mood.startswith('V'):\n",
    "        return wordnet.VERB\n",
    "  elif mood.startswith('N'):\n",
    "        return wordnet.NOUN\n",
    "  elif mood.startswith('R'):\n",
    "        return wordnet.ADV\n",
    "  else:          \n",
    "        return None\n",
    "\n",
    "def Lemm(tokenss):\n",
    "  lemmatize = WordNetLemmatizer().lemmatize\n",
    "  stop_words = set(stopwords.words('english'))\n",
    "  tss = map(lambda ts: map(lambda t: (t[0], mood_mapper(t[1]))), tokenss)\n",
    "  lemmatized = []\n",
    "  for ts in tss:\n",
    "    for word, mood in ts:\n",
    "      w = word if mood is None else lemmatize(word, mood)\n",
    "      if not w in stop_words: \n",
    "        lemmatized.append(w)\n",
    "  return lemmatized"
   ]
  },
  {
   "cell_type": "code",
   "execution_count": 39,
   "metadata": {},
   "outputs": [],
   "source": [
    "df_test = pd.read_csv(\"https://raw.githubusercontent.com/several27/FakeNewsCorpus/master/news_sample.csv\", delimiter=\",\")\n",
    "\n",
    "df_test = df_test.dropna(subset =[\"type\"])\n",
    "\n",
    "df_content = df_test[\"content\"]\n",
    "df_tokens = df_content.apply(clean_text)\n",
    "\n",
    "df_test[\"tokens\"] = df_tokens\n",
    "df_cleaned = df_tokens.apply(lambda x: ' '.join(x))\n",
    "df_test[\"cleaned_content\"] = df_cleaned\n",
    "\n",
    "df_cleaned.to_csv('testclean.csv')"
   ]
  },
  {
   "cell_type": "markdown",
   "metadata": {},
   "source": [
    "## Observations\n",
    "\n",
    "1. **Length by article type (*type_token_relation*):** \n",
    "This boxplot gives the distribution of the length of the articles in tokens within article types. Taking into consideration that the supermajority of articles types are undersamples in the data set (<6) (observation 2) this observation does not make it seem likely that there is a useful correlation between length and type.  \n",
    "2. **URL token frequency by article type (*type_URLfreq_relation*):**\n",
    "This boxplot gives the distribution of the frequency of the URL token within article type. It shows that many types are undersampled. This motivated us to look at the criteria for the types in the FakeNewsCorpus; aritcle types are mutually exclusive, but their semantics are not. This begs the question how FakeNews corpus decides when multiple types are appropriate - it seems that they have som rank-order for which type takes precedens, though as observation 4 shows this cannot be concluded.  \n",
    "3. **Distribution of types (*type_distribution*):**\n",
    "This barplot shows the distribution of types. From it we can conclude that the data(sub)set has an exponential drop-off in how populated each types is. Since we only have about 250 articles this means that the less populated types are very undersampled.\n",
    "4. **Distribution of types within a domain(*domain_type_relation*)**\n",
    "Most interestingly this oberservation shows us that each domain only have one type associated with them. This means that we have to be careful about what our model is actually checking; it could be that it is only checking the domain (through inference by the structure of the tokens) and then guesses by the type associated with the domain. It also shows that the datasubset have very few articles associated for each domain (<3)."
   ]
  },
  {
   "cell_type": "code",
   "execution_count": 40,
   "metadata": {},
   "outputs": [],
   "source": [
    "# Function which returns list of token counts [URL, NUM, DATA, EMAIL, ALL_tokens]\n",
    "def count_tokens(tokens):\n",
    "    meta_tokens  = [\"<URL>\", \"<NUM>\", \"<DATE>\", \"<EMAIL>\"]\n",
    "    meta_counts = [0, 0, 0, 0]\n",
    "    for token in tokens:\n",
    "      if token in meta_tokens:\n",
    "        i = meta_tokens.index(token)\n",
    "        meta_counts[i] += 1\n",
    "    token_count = len(tokens)\n",
    "    return [token_count] + meta_counts\n",
    "\n",
    "\n",
    "# Observation 1 - relationship between type and tokencount (length of article)\n",
    "def type_token_relation(df):\n",
    "    counts = df[\"tokens\"].apply(count_tokens)\n",
    "    tokens = counts.apply(lambda xs: xs[0])\n",
    "    tokens = tokens.rename(\"token_count\")\n",
    "    df_temp = pd.concat([df[\"type\"], tokens], axis=1)\n",
    "\n",
    "    df_ret = pd.DataFrame(index = df.index)\n",
    "    types = df_temp[\"type\"].unique()\n",
    "    for t in types:\n",
    "        df_ret[t] = df_temp[df_temp[\"type\"] == t][\"token_count\"]\n",
    "        pd.concat([df_ret, df_ret[t]], axis=1, ignore_index = True) \n",
    "\n",
    "    df_ret.boxplot(rot=45)\n",
    "\n",
    "    return df_ret.mean(axis=0)\n",
    "\n",
    "# Observation 2 - relationship between type and URL frequency\n",
    "def type_URLfreq_relation(df):\n",
    "    counts = df[\"tokens\"].apply(count_tokens)\n",
    "    url_freq = counts.apply(lambda xs: xs[1]/xs[0])\n",
    "    url_freq = url_freq.rename(\"url_freq\")\n",
    "    df_temp = pd.concat([df[\"type\"], url_freq], axis=1)\n",
    "\n",
    "    df_ret = pd.DataFrame(index = df.index)\n",
    "    types = df_temp[\"type\"].unique()\n",
    "    for t in types:\n",
    "        df_ret[t] = df_temp[df_temp[\"type\"] == t][\"url_freq\"]\n",
    "        pd.concat([df_ret, df_ret[t]], axis=1, ignore_index = True) \n",
    "\n",
    "    df_ret.boxplot(rot=45)\n",
    "\n",
    "    return df_ret.mean(axis=0)\n",
    "\n",
    "# Observation 3 - type distribution of dataset\n",
    "def type_distribution(df):\n",
    "    df['type'].value_counts().plot.bar()\n",
    "    return df['type'].value_counts()\n",
    "\n",
    "# Observation 4 - types of article each domain publishes\n",
    "def domain_type_relation(df):\n",
    "    domains = df[\"domain\"].unique()\n",
    "    types = []\n",
    "    for domain in domains:\n",
    "        types.append(df[df[\"domain\"] == domain][\"type\"].value_counts().to_dict())\n",
    "    idx = sorted(range(len(types)), key=lambda i: list(types[i].items())[0][1])\n",
    "    return list(map(lambda i: (domains[i], types[i]), reversed(idx)))"
   ]
  },
  {
   "cell_type": "code",
   "execution_count": 41,
   "metadata": {},
   "outputs": [
    {
     "data": {
      "text/plain": [
       "unreliable     181.666667\n",
       "fake           377.606452\n",
       "clickbait      163.000000\n",
       "conspiracy     461.483871\n",
       "reliable       256.666667\n",
       "bias           253.833333\n",
       "hate            32.000000\n",
       "junksci        219.166667\n",
       "political      368.260870\n",
       "unknown       1226.166667\n",
       "dtype: float64"
      ]
     },
     "execution_count": 41,
     "metadata": {},
     "output_type": "execute_result"
    },
    {
     "data": {
      "image/png": "[encoded data removed]",
      "text/plain": [
       "<Figure size 432x288 with 1 Axes>"
      ]
     },
     "metadata": {
      "needs_background": "light"
     },
     "output_type": "display_data"
    }
   ],
   "source": [
    "type_token_relation(df_test)"
   ]
  },
  {
   "cell_type": "code",
   "execution_count": 42,
   "metadata": {},
   "outputs": [
    {
     "data": {
      "text/plain": [
       "unreliable    0.016894\n",
       "fake          0.011174\n",
       "clickbait     0.000000\n",
       "conspiracy    0.006394\n",
       "reliable      0.002193\n",
       "bias          0.012063\n",
       "hate          0.000000\n",
       "junksci       0.024873\n",
       "political     0.006453\n",
       "unknown       0.003593\n",
       "dtype: float64"
      ]
     },
     "execution_count": 42,
     "metadata": {},
     "output_type": "execute_result"
    },
    {
     "data": {
      "image/png": "[encoded data removed]",
      "text/plain": [
       "<Figure size 432x288 with 1 Axes>"
      ]
     },
     "metadata": {
      "needs_background": "light"
     },
     "output_type": "display_data"
    }
   ],
   "source": [
    "type_URLfreq_relation(df_test)"
   ]
  },
  {
   "cell_type": "code",
   "execution_count": 43,
   "metadata": {},
   "outputs": [
    {
     "data": {
      "text/plain": [
       "fake          155\n",
       "conspiracy     31\n",
       "political      23\n",
       "unreliable      6\n",
       "bias            6\n",
       "junksci         6\n",
       "unknown         6\n",
       "reliable        3\n",
       "clickbait       1\n",
       "hate            1\n",
       "Name: type, dtype: int64"
      ]
     },
     "execution_count": 43,
     "metadata": {},
     "output_type": "execute_result"
    },
    {
     "data": {
      "image/png": "[encoded data removed]",
      "text/plain": [
       "<Figure size 432x288 with 1 Axes>"
      ]
     },
     "metadata": {
      "needs_background": "light"
     },
     "output_type": "display_data"
    }
   ],
   "source": [
    "type_distribution(df_test)"
   ]
  },
  {
   "cell_type": "code",
   "execution_count": 44,
   "metadata": {},
   "outputs": [
    {
     "data": {
      "text/plain": [
       "[('beforeitsnews.com', {'fake': 155}),\n",
       " ('canadafreepress.com', {'conspiracy': 24}),\n",
       " ('washingtonexaminer.com', {'political': 17}),\n",
       " ('awarenessact.com', {'conspiracy': 6}),\n",
       " ('naturalnews.com', {'junksci': 5}),\n",
       " ('strategic-culture.org', {'unknown': 4}),\n",
       " ('christianpost.com', {'reliable': 3}),\n",
       " ('city-journal.org', {'political': 2}),\n",
       " ('vdare.com', {'bias': 2}),\n",
       " ('undergroundhealth.com', {'unknown': 2}),\n",
       " ('alternet.org', {'political': 2}),\n",
       " ('awm.com', {'unreliable': 2}),\n",
       " ('breitbart.com', {'political': 1}),\n",
       " ('anonhq.com', {'unreliable': 1}),\n",
       " ('americanlookout.com', {'bias': 1}),\n",
       " ('washingtonsblog.com', {'bias': 1}),\n",
       " ('21stcenturywire.com', {'conspiracy': 1}),\n",
       " ('unz.com', {'bias': 1}),\n",
       " ('nationalreview.com', {'political': 1}),\n",
       " ('collectivelyconscious.net', {'junksci': 1}),\n",
       " ('breakpoint.org', {'unreliable': 1}),\n",
       " ('barenakedislam.com', {'hate': 1}),\n",
       " ('charismanews.com', {'bias': 1}),\n",
       " ('blackagendareport.com', {'unreliable': 1}),\n",
       " ('bipartisanreport.com', {'clickbait': 1}),\n",
       " ('cnnnext.com', {'unreliable': 1})]"
      ]
     },
     "execution_count": 44,
     "metadata": {},
     "output_type": "execute_result"
    }
   ],
   "source": [
    "domain_type_relation(df_test)"
   ]
  },
  {
   "cell_type": "markdown",
   "metadata": {},
   "source": [
    "## TRAINING"
   ]
  },
  {
   "cell_type": "code",
   "execution_count": 45,
   "metadata": {},
   "outputs": [],
   "source": [
    "conn = psycopg2.connect(dbname=\"fakenewsdb\", user=\"postgres\", password=\"1234\")"
   ]
  },
  {
   "cell_type": "code",
   "execution_count": 46,
   "metadata": {},
   "outputs": [],
   "source": [
    "# Dataset for model\n",
    "\n",
    "query_fnc = \"\"\"\n",
    "    SELECT id, type, content\n",
    "    FROM fnc_article\n",
    "\"\"\"\n",
    "\n",
    "df_fncpull = pd.read_sql(query_fnc, conn)"
   ]
  },
  {
   "cell_type": "code",
   "execution_count": 47,
   "metadata": {},
   "outputs": [
    {
     "data": {
      "text/plain": [
       "political     2805\n",
       "unreliable    1472\n",
       "bias          1337\n",
       "fake          1161\n",
       "conspiracy    1044\n",
       "NaN            878\n",
       "rumor          450\n",
       "clickbait      238\n",
       "junksci        167\n",
       "satire         135\n",
       "reliable        73\n",
       "hate            41\n",
       "Name: type, dtype: int64"
      ]
     },
     "execution_count": 47,
     "metadata": {},
     "output_type": "execute_result"
    }
   ],
   "source": [
    "df_fncpull\n",
    "\n",
    "df_fncpull['type'].value_counts()"
   ]
  },
  {
   "cell_type": "code",
   "execution_count": 48,
   "metadata": {},
   "outputs": [],
   "source": [
    "type_real = ['political', 'reliable', 'clickbait']\n",
    "type_fake = ['fake', 'satire', 'bias', 'conspiracy', 'junksci', 'hate']\n",
    "\n",
    "def type_classifier(type):\n",
    "    if type in type_real:\n",
    "        type = 1\n",
    "    elif type in type_fake:\n",
    "        type = 0\n",
    "\n",
    "    return type"
   ]
  },
  {
   "cell_type": "code",
   "execution_count": 49,
   "metadata": {},
   "outputs": [
    {
     "data": {
      "text/plain": [
       "0    3885\n",
       "1    3116\n",
       "Name: type, dtype: int64"
      ]
     },
     "execution_count": 49,
     "metadata": {},
     "output_type": "execute_result"
    }
   ],
   "source": [
    "df_fncpull = df_fncpull[df_fncpull['type'].isin(type_real + type_fake)]\n",
    "\n",
    "df_fncpull['type'] = df_fncpull['type'].apply(type_classifier)\n",
    "\n",
    "df_fncpull['type'].value_counts()"
   ]
  },
  {
   "cell_type": "code",
   "execution_count": 50,
   "metadata": {},
   "outputs": [],
   "source": [
    "# df_fnccontent = df_fncpull[\"content\"]\n",
    "# df_fnctokens = df_fnccontent.apply(clean_text)\n",
    "\n",
    "# df_fnccleaned = df_fnctokens.apply(lambda x: ' '.join(x))\n",
    "# df_fncpull[\"content\"] = df_fnccleaned\n",
    "\n",
    "# df_fncpull.to_csv('fncpullcleaned.csv', index = False)"
   ]
  },
  {
   "cell_type": "code",
   "execution_count": 51,
   "metadata": {},
   "outputs": [],
   "source": [
    "df_fncpull = pd.read_csv('fncpullcleaned.csv')"
   ]
  },
  {
   "cell_type": "code",
   "execution_count": 52,
   "metadata": {},
   "outputs": [],
   "source": [
    "X_train, X_rem, y_train, y_rem = train_test_split(df_fncpull['content'], df_fncpull['type'], train_size = 0.7)\n",
    "\n",
    "X_valid, X_test, y_valid, y_test = train_test_split(X_rem, y_rem, test_size = 0.5)"
   ]
  },
  {
   "cell_type": "code",
   "execution_count": 53,
   "metadata": {},
   "outputs": [
    {
     "data": {
      "text/plain": [
       "58660"
      ]
     },
     "execution_count": 53,
     "metadata": {},
     "output_type": "execute_result"
    }
   ],
   "source": [
    "\n",
    "vectorizer = TfidfVectorizer(       \n",
    "    lowercase=False, \n",
    "    ngram_range=(1,1), \n",
    "    token_pattern=r\"(?u)\\b\\w\\w+\\b|<DATE>|<NUM>|<EMAIL>|<URL>\"\n",
    ")\n",
    "\n",
    "vectorizer.fit(X_train)\n",
    "\n",
    "TFIDF_Xtrain = vectorizer.transform(X_train)\n",
    "TFIDF_Xtest = vectorizer.transform(X_test)\n",
    "TFIDF_Xvalid = vectorizer.transform(X_valid)\n",
    "\n",
    "len(vectorizer.get_feature_names())\n"
   ]
  },
  {
   "cell_type": "markdown",
   "metadata": {},
   "source": [
    "### Logistic Regression"
   ]
  },
  {
   "cell_type": "code",
   "execution_count": 54,
   "metadata": {},
   "outputs": [],
   "source": [
    "# Baseline hyperparameter tuning Log.reg\n",
    "\n",
    "logreg_model = linear_model.LogisticRegression()\n",
    "\n",
    "logreg_param = [\n",
    "    {'penalty' : ['l1'], 'C' : np.logspace(-4, 4, 20), 'solver' : ['liblinear']},\n",
    "    {'penalty' : ['l2'], 'C' : np.logspace(-4, 4, 20), 'solver' : ['lbfgs','newton-cg','saga']}\n",
    "]\n",
    "\n",
    "lrcv_clf = GridSearchCV(logreg_model, param_grid = logreg_param, cv=3, verbose = 5, n_jobs = -1)"
   ]
  },
  {
   "cell_type": "code",
   "execution_count": 55,
   "metadata": {},
   "outputs": [],
   "source": [
    "lrbase_clf = logreg_model.fit(TFIDF_Xtrain, y_train)"
   ]
  },
  {
   "cell_type": "code",
   "execution_count": 56,
   "metadata": {},
   "outputs": [
    {
     "name": "stdout",
     "output_type": "stream",
     "text": [
      "Fitting 3 folds for each of 80 candidates, totalling 240 fits\n"
     ]
    }
   ],
   "source": [
    "lrhyper_clf = lrcv_clf.fit(TFIDF_Xtrain, y_train)"
   ]
  },
  {
   "cell_type": "code",
   "execution_count": 57,
   "metadata": {},
   "outputs": [
    {
     "data": {
      "text/plain": [
       "LogisticRegression(C=1.623776739188721, penalty='l1', solver='liblinear')"
      ]
     },
     "execution_count": 57,
     "metadata": {},
     "output_type": "execute_result"
    }
   ],
   "source": [
    "lrhyper_clf.best_estimator_"
   ]
  },
  {
   "cell_type": "code",
   "execution_count": 58,
   "metadata": {},
   "outputs": [
    {
     "name": "stdout",
     "output_type": "stream",
     "text": [
      "Base Accuracry: 0.813\n",
      "Hyper Accuracy: 0.822\n"
     ]
    }
   ],
   "source": [
    "lrhyper_clf.score(TFIDF_Xtrain, y_train)\n",
    "\n",
    "print (f'Base Accuracry: {lrbase_clf.score(TFIDF_Xtest, y_test):.3f}\\nHyper Accuracy: {lrhyper_clf.score(TFIDF_Xtest, y_test):.3f}')"
   ]
  },
  {
   "cell_type": "code",
   "execution_count": 59,
   "metadata": {},
   "outputs": [],
   "source": [
    "lrbase_predict_proba = lrbase_clf.predict_proba(TFIDF_Xtest)[::,1]\n",
    "lrhyper_predict_proba = lrhyper_clf.predict_proba(TFIDF_Xtest)[::,1]\n",
    "\n",
    "lrbase_fpr, lrbase_tpr, _ = metrics.roc_curve(y_test, lrbase_predict_proba)\n",
    "lrhyper_fpr, lrhyper_tpr, _ = metrics.roc_curve(y_test, lrhyper_predict_proba)"
   ]
  },
  {
   "cell_type": "code",
   "execution_count": 60,
   "metadata": {},
   "outputs": [
    {
     "data": {
      "image/png": "[encoded data removed]",
      "text/plain": [
       "<Figure size 576x576 with 1 Axes>"
      ]
     },
     "metadata": {
      "needs_background": "light"
     },
     "output_type": "display_data"
    }
   ],
   "source": [
    "plt.subplots(1, figsize=(8,8))\n",
    "\n",
    "plt.title('Receiver Operating Characteristic - Base Log Regression')\n",
    "plt.plot(lrbase_fpr, lrbase_tpr)\n",
    "plt.plot(lrhyper_fpr, lrhyper_tpr)\n",
    "plt.plot([0, 1], ls=\"--\")\n",
    "plt.ylabel('True Positive Rate')\n",
    "plt.xlabel('False Positive Rate')\n",
    "plt.show()"
   ]
  },
  {
   "cell_type": "markdown",
   "metadata": {},
   "source": [
    "### Naive Bayes"
   ]
  },
  {
   "cell_type": "code",
   "execution_count": 61,
   "metadata": {},
   "outputs": [],
   "source": [
    "# Naive Bayes\n",
    "\n",
    "nb_model = naive_bayes.MultinomialNB()\n",
    "\n",
    "nb_param = [\n",
    "    {'alpha' : [0.0, 0.01, 0.05] + np.linspace(0.1, 1, 10).tolist() + [5.0, 10.0, 100.0]}\n",
    "]\n",
    "\n",
    "nbcv_clf = GridSearchCV(nb_model, param_grid = nb_param, cv=3, verbose = 5, n_jobs = -1)"
   ]
  },
  {
   "cell_type": "code",
   "execution_count": 62,
   "metadata": {},
   "outputs": [],
   "source": [
    "nbbase_clf = nb_model.fit(TFIDF_Xtrain, y_train)"
   ]
  },
  {
   "cell_type": "code",
   "execution_count": 63,
   "metadata": {},
   "outputs": [
    {
     "name": "stdout",
     "output_type": "stream",
     "text": [
      "Fitting 3 folds for each of 16 candidates, totalling 48 fits\n"
     ]
    }
   ],
   "source": [
    "nbhyper_clf = nbcv_clf.fit(TFIDF_Xtrain, y_train)"
   ]
  },
  {
   "cell_type": "code",
   "execution_count": 64,
   "metadata": {},
   "outputs": [
    {
     "data": {
      "text/plain": [
       "MultinomialNB(alpha=0.5)"
      ]
     },
     "execution_count": 64,
     "metadata": {},
     "output_type": "execute_result"
    }
   ],
   "source": [
    "nbhyper_clf.best_estimator_"
   ]
  },
  {
   "cell_type": "code",
   "execution_count": 65,
   "metadata": {},
   "outputs": [
    {
     "name": "stdout",
     "output_type": "stream",
     "text": [
      "Base Accuracry: 0.803\n",
      "Hyper Accuracy: 0.801\n"
     ]
    }
   ],
   "source": [
    "print (f'Base Accuracry: {nbbase_clf.score(TFIDF_Xtest, y_test):.3f}\\nHyper Accuracy: {nbhyper_clf.score(TFIDF_Xtest, y_test):.3f}')"
   ]
  },
  {
   "cell_type": "code",
   "execution_count": 75,
   "metadata": {},
   "outputs": [],
   "source": [
    "nbbase_predict_proba = nbbase_clf.predict_proba(TFIDF_Xtest)[::,1]\n",
    "nbhyper_predict_proba = nbhyper_clf.predict_proba(TFIDF_Xtest)[::,1]\n",
    "\n",
    "nbbase_fpr, nbbase_tpr, _ = metrics.roc_curve(y_test, nbbase_predict_proba)\n",
    "nbhyper_fpr, nbhyper_tpr, _ = metrics.roc_curve(y_test, nbhyper_predict_proba)"
   ]
  },
  {
   "cell_type": "code",
   "execution_count": 67,
   "metadata": {},
   "outputs": [
    {
     "data": {
      "image/png": "[encoded data removed]",
      "text/plain": [
       "<Figure size 576x576 with 1 Axes>"
      ]
     },
     "metadata": {
      "needs_background": "light"
     },
     "output_type": "display_data"
    }
   ],
   "source": [
    "plt.subplots(1, figsize=(8,8))\n",
    "\n",
    "plt.title('Receiver Operating Characteristic - Naive Bayes')\n",
    "plt.plot(nbbase_fpr, nbbase_tpr)\n",
    "plt.plot(nbhyper_fpr, nbhyper_tpr)\n",
    "plt.plot([0, 1], ls=\"--\")\n",
    "plt.ylabel('True Positive Rate')\n",
    "plt.xlabel('False Positive Rate')\n",
    "plt.show()"
   ]
  },
  {
   "cell_type": "markdown",
   "metadata": {},
   "source": [
    "### Support Vector Machine"
   ]
  },
  {
   "cell_type": "code",
   "execution_count": 77,
   "metadata": {},
   "outputs": [
    {
     "data": {
      "text/plain": [
       "[{'kernel': ['linear'], 'C': [0.01, 0.1, 1.0, 10.0, 100.0, 1000.0]}]"
      ]
     },
     "execution_count": 77,
     "metadata": {},
     "output_type": "execute_result"
    }
   ],
   "source": [
    "svm_model = svm.SVC(probability=True)\n",
    "\n",
    "svm_param = [\n",
    "    {'kernel' : ['linear'], 'C' : [0.01, 0.1, 1.0, 10.0, 100.0, 1000.0]}\n",
    "]\n",
    "\n",
    "svmcv_clf = GridSearchCV(svm_model, param_grid = svm_param, cv=3, verbose = 5, n_jobs = -1)\n",
    "\n",
    "svm_param"
   ]
  },
  {
   "cell_type": "code",
   "execution_count": 78,
   "metadata": {},
   "outputs": [],
   "source": [
    "svmbase_clf = svm_model.fit(TFIDF_Xtrain, y_train)"
   ]
  },
  {
   "cell_type": "code",
   "execution_count": 80,
   "metadata": {},
   "outputs": [
    {
     "name": "stdout",
     "output_type": "stream",
     "text": [
      "Fitting 3 folds for each of 6 candidates, totalling 18 fits\n"
     ]
    }
   ],
   "source": [
    "svmhyper_clf = svmcv_clf.fit(TFIDF_Xtrain, y_train)"
   ]
  },
  {
   "cell_type": "code",
   "execution_count": 81,
   "metadata": {},
   "outputs": [
    {
     "data": {
      "text/plain": [
       "SVC(kernel='linear', probability=True)"
      ]
     },
     "execution_count": 81,
     "metadata": {},
     "output_type": "execute_result"
    }
   ],
   "source": [
    "svmhyper_clf.best_estimator_"
   ]
  },
  {
   "cell_type": "code",
   "execution_count": 82,
   "metadata": {},
   "outputs": [
    {
     "name": "stdout",
     "output_type": "stream",
     "text": [
      "Base Accuracry: 0.814\n",
      "Hyper Accuracy: 0.812\n"
     ]
    }
   ],
   "source": [
    "print (f'Base Accuracry: {svmbase_clf.score(TFIDF_Xtest, y_test):.3f}\\nHyper Accuracy: {svmhyper_clf.score(TFIDF_Xtest, y_test):.3f}')"
   ]
  },
  {
   "cell_type": "code",
   "execution_count": 83,
   "metadata": {},
   "outputs": [],
   "source": [
    "svmbase_predict_proba = svmbase_clf.predict_proba(TFIDF_Xtest)[::,1]\n",
    "svmhyper_predict_proba = svmhyper_clf.predict_proba(TFIDF_Xtest)[::,1]\n",
    "\n",
    "svmbase_fpr, svmbase_tpr, _ = metrics.roc_curve(y_test, svmbase_predict_proba)\n",
    "svmhyper_fpr, svmhyper_tpr, _ = metrics.roc_curve(y_test, svmhyper_predict_proba)"
   ]
  },
  {
   "cell_type": "code",
   "execution_count": 84,
   "metadata": {},
   "outputs": [
    {
     "data": {
      "image/png": "[encoded data removed]",
      "text/plain": [
       "<Figure size 576x576 with 1 Axes>"
      ]
     },
     "metadata": {
      "needs_background": "light"
     },
     "output_type": "display_data"
    }
   ],
   "source": [
    "plt.subplots(1, figsize=(8,8))\n",
    "\n",
    "plt.title('Receiver Operating Characteristic - Base Log Regression')\n",
    "plt.plot(lrbase_fpr, lrbase_tpr)\n",
    "plt.plot(lrhyper_fpr, lrhyper_tpr)\n",
    "plt.plot([0, 1], ls=\"--\")\n",
    "plt.ylabel('True Positive Rate')\n",
    "plt.xlabel('False Positive Rate')\n",
    "plt.show()"
   ]
  },
  {
   "cell_type": "code",
   "execution_count": null,
   "metadata": {},
   "outputs": [],
   "source": []
  }
 ],
 "metadata": {
  "interpreter": {
   "hash": "65cc6a082bbdb51aba06bbf1d78c1b93987957587a078c9335da8e443a5b7d28"
  },
  "kernelspec": {
   "display_name": "Python 3.7.3 ('base')",
   "language": "python",
   "name": "python3"
  },
  "language_info": {
   "codemirror_mode": {
    "name": "ipython",
    "version": 3
   },
   "file_extension": ".py",
   "mimetype": "text/x-python",
   "name": "python",
   "nbconvert_exporter": "python",
   "pygments_lexer": "ipython3",
   "version": "3.7.3"
  },
  "orig_nbformat": 4
 },
 "nbformat": 4,
 "nbformat_minor": 2
}
