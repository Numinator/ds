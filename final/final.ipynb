{
 "cells": [
  {
   "cell_type": "markdown",
   "metadata": {},
   "source": [
    "## FINAL PROJECT\n",
    "Frederik Kallestrup Mastratis (qln174)  \n",
    "Dongyu Liu (dlf327)  \n",
    "Shamim Tariq Akram (zmx145)  \n",
    "Celina Aurora Nguyen (szf345)  \n",
    "\n",
    "Group 21"
   ]
  },
  {
   "cell_type": "markdown",
   "metadata": {},
   "source": [
    "## PACKAGES"
   ]
  },
  {
   "cell_type": "code",
   "execution_count": 3,
   "metadata": {},
   "outputs": [],
   "source": [
    "import numpy as np\n",
    "import pandas as pd\n",
    "import re\n",
    "import datefinder\n",
    "import requests\n",
    "\n",
    "from nltk.tokenize import word_tokenize\n",
    "from nltk.corpus import stopwords\n",
    "from nltk.stem.snowball import SnowballStemmer\n",
    "\n",
    "from sklearn.feature_extraction.text import CountVectorizer\n",
    "from sklearn.feature_extraction.text import TfidfVectorizer\n",
    "\n",
    "import psycopg2\n",
    "\n",
    "from cleantext import clean\n",
    "from bs4 import BeautifulSoup as bs\n"
   ]
  },
  {
   "cell_type": "code",
   "execution_count": 4,
   "metadata": {},
   "outputs": [],
   "source": [
    "df_test = pd.read_csv(\"https://raw.githubusercontent.com/several27/FakeNewsCorpus/master/news_sample.csv\", delimiter=\",\")"
   ]
  },
  {
   "cell_type": "markdown",
   "metadata": {},
   "source": [
    "## TEXT CLEANER"
   ]
  },
  {
   "cell_type": "code",
   "execution_count": 5,
   "metadata": {},
   "outputs": [],
   "source": [
    "DATE = '3[01]|[12][0-9]|0?[1-9]'\n",
    "DATE_SUFFIXES = 'st|th|rd|nd'\n",
    "DAY = '(mon|tues|thurs|fri|sun)(day)?|wed(nesday)?|sat(urday)?'\n",
    "YEAR = '([12][0-9])?[0-9]{2}'\n",
    "MONTHS = 'jan\\.?(uary)?|feb\\.?(ruary)?|mar\\.?(ch)?|apr\\.?(il)?|may|jun\\.?(e)?|jul\\.?(y)?|aug\\.?(ust)?|sep\\.?(tember)?|oct\\.?(ober)?|nov\\.?(ember)?|dec\\.?(ember)?'\n",
    "\n",
    "# format: pretty much all digit formats DD/MM/YY etc.\n",
    "fd1 = '((%s)\\s,?)?\\d{1,4}[\\\\/-]\\d{1,2}[\\\\/-]\\d{1,4}' % (DAY)\n",
    "# format: DD-DD MON (YYYY)\n",
    "fd2 = '((%s)\\s,?)?(%s)(%s)?(\\s?-\\s?(%s))?\\s(%s)(\\s?,?\\s(%s))?' % (DAY, DATE, DATE_SUFFIXES, DATE, MONTHS, YEAR)\n",
    "# format: MON DD-DD (YYYY)\n",
    "fd3 = '((%s)\\s,?)?(%s)\\s(%s)(%s)?(\\s?-\\s?(%s))?(\\s?,?\\s(%s))?' % (DAY, MONTHS, DATE, DATE_SUFFIXES, DATE, YEAR)\n",
    "# format: MON YYYY\n",
    "fd4 = '(%s)\\s(%s)?' % (MONTHS, YEAR)\n",
    "\n",
    "DATES_REGEX = re.compile(r\"(%s)|(%s)|(%s)|(%s)\" % (fd1, fd2, fd3, fd4))\n",
    "\n",
    "def clean_text(txt):\n",
    "    txt = txt.lower()\n",
    "\n",
    "    txt = re.sub(r\"\\s+\", \" \", txt)\n",
    "    regex = {\" EMAIL \" : r\"\\w+@\\w+(\\.[a-z]{2})?\\.[a-z]{2,3}\",\n",
    "        \" URL \" : r\"([a-z\\d]+://)?[a-z]+[a-z\\d]*(\\.[a-z\\d\\-\\._~]+)+(/[a-z\\d\\-\\._~]*|(\\?[a-z\\d\\-\\._~]+=[a-z\\d\\-\\._~]+))*\",\n",
    "        \" DATE \" : DATES_REGEX,\n",
    "        \" NUM \" : r\"[+-]?((\\d+(,|\\.))*\\d+)\"}\n",
    "\n",
    "    for k in regex.keys():\n",
    "      txt = re.sub(regex[k], k, txt)\n",
    "\n",
    "    txt = re.sub(r\"/\", \"\", txt)\n",
    "\n",
    "    # Extra cleaning with cleantext library\n",
    "    txt = clean(txt,\n",
    "      lower=False,\n",
    "      normalize_whitespace=True,\n",
    "      no_line_breaks=True,\n",
    "      strip_lines=True,\n",
    "      no_numbers=True, replace_with_number= ' NUM ',\n",
    "      no_urls=True, replace_with_url=' URL ',\n",
    "      no_emails=True, replace_with_email=' EMAIL ',\n",
    "      no_punct=True, replace_with_punct=''\n",
    "    )\n",
    "\n",
    "    tokens = word_tokenize(txt)\n",
    "    prepostfix = lambda t: \"<\"+t+\">\" if t.isupper() else t\n",
    "    tokens = list(map(prepostfix, tokens))\n",
    "\n",
    "    stop_words = set(stopwords.words('english'))\n",
    "    tokens = [w for w in tokens if not w in stop_words]\n",
    "\n",
    "    stemmer = SnowballStemmer(language='english')\n",
    "    tokens = [stemmer.stem(w) if w[0] != '<' else w for w in tokens]\n",
    "\n",
    "    cleaned_text = ' '.join(tokens)\n",
    "    \n",
    "    return cleaned_text"
   ]
  },
  {
   "cell_type": "code",
   "execution_count": 28,
   "metadata": {},
   "outputs": [],
   "source": [
    "##lemmatize\n",
    "def tokenize_mood(txt):\n",
    "  tokens = nltk.sent_tokenize(txt)\n",
    "  prepostfix = lambda t: \"<\"+t+\">\" if t.isupper() else t\n",
    "  return map(lambda sentence: map(prepostfix, sentence), tokens)\n",
    "\n",
    "def mood_mapper(mood):\n",
    "  if mood.startswith('J'):\n",
    "        return wordnet.ADJ\n",
    "  elif mood.startswith('V'):\n",
    "        return wordnet.VERB\n",
    "  elif mood.startswith('N'):\n",
    "        return wordnet.NOUN\n",
    "  elif mood.startswith('R'):\n",
    "        return wordnet.ADV\n",
    "  else:          \n",
    "        return None\n",
    "\n",
    "def Lemm(tokenss):\n",
    "  lemmatize = WordNetLemmatizer().lemmatize\n",
    "  stop_words = set(stopwords.words('english'))\n",
    "  tss = map(lambda ts: map(lambda t: (t[0], mood_mapper(t[1]))), tokenss)\n",
    "  lemmatized = []\n",
    "  for ts in tss:\n",
    "    for word, mood in ts:\n",
    "      w = word if mood is None else lemmatize(word, mood)\n",
    "      if not w in stop_words: \n",
    "        lemmatized.append(w)\n",
    "  return lemmatized"
   ]
  },
  {
   "cell_type": "code",
   "execution_count": 6,
   "metadata": {},
   "outputs": [],
   "source": [
    "df_test = df_test.dropna(subset =[\"type\"])\n",
    "\n",
    "df_content = df_test[\"content\"]\n",
    "df_cleaned = df_content.apply(clean_text)\n",
    "\n",
    "df_test[\"cleaned_content\"] = df_cleaned\n",
    "\n",
    "df_test[\"cleaned_content\"].to_csv('testclean.csv')"
   ]
  },
  {
   "cell_type": "code",
   "execution_count": 7,
   "metadata": {},
   "outputs": [],
   "source": [
    "vectorizer = TfidfVectorizer(lowercase=False, ngram_range=(1,1), token_pattern=r\"(?u)\\b\\w\\w+\\b|<DATE>|<NUM>|<EMAIL>|<URL>\")\n",
    "\n",
    "X = vectorizer.fit_transform(df_cleaned).toarray()\n",
    "\n",
    "features = vectorizer.get_feature_names()\n",
    "\n",
    "_list = features\n",
    "textfile = open(\"features.txt\", \"w\")\n",
    "for element in _list:\n",
    "    textfile.write(element + \"\\n\")\n",
    "textfile.close()\n"
   ]
  },
  {
   "cell_type": "markdown",
   "metadata": {},
   "source": [
    "## Observations\n",
    "\n",
    "1. **Length by article type (*type_token_relation*):** \n",
    "This boxplot gives the distribution of the length of the articles in tokens within article types. Taking into consideration that the supermajority of articles types are undersamples in the data set (<6) (observation 2) this observation does not make it seem likely that there is a useful correlation between length and type.  \n",
    "2. **URL token frequency by article type (*type_URLfreq_relation*):**\n",
    "This boxplot gives the distribution of the frequency of the URL token within article type. It shows that many types are undersampled. This motivated us to look at the criteria for the types in the FakeNewsCorpus; aritcle types are mutually exclusive, but their semantics are not. This begs the question how FakeNews corpus decides when multiple types are appropriate - it seems that they have som rank-order for which type takes precedens, though as observation 4 shows this cannot be concluded.  \n",
    "3. **Distribution of types (*type_distribution*):**\n",
    "This barplot shows the distribution of types. From it we can conclude that the data(sub)set has an exponential drop-off in how populated each types is. Since we only have about 250 articles this means that the less populated types are very undersampled.\n",
    "4. **Distribution of types within a domain(*domain_type_relation*)**\n",
    "Most interestingly this oberservation shows us that each domain only have one type associated with them. This means that we have to be careful about what our model is actually checking; it could be that it is only checking the domain (through inference by the structure of the tokens) and then guesses by the type associated with the domain. It also shows that the datasubset have very few articles associated for each domain (<3)."
   ]
  },
  {
   "cell_type": "code",
   "execution_count": 35,
   "metadata": {},
   "outputs": [],
   "source": [
    "# Function which returns list of token counts [URL, NUM, DATA, EMAIL, ALL_tokens]\n",
    "def count_tokens(tokens):\n",
    "    meta_tokens  = [\"<URL>\", \"<NUM>\", \"<DATE>\", \"<EMAIL>\"]\n",
    "    meta_counts = [0, 0, 0, 0]\n",
    "    for token in tokens:\n",
    "      if token in meta_tokens:\n",
    "        i = meta_tokens.index(token)\n",
    "        meta_counts[i] += 1\n",
    "    token_count = len(tokens)\n",
    "    return [token_count] + meta_counts\n",
    "\n",
    "\n",
    "# Observation 1 - relationship between type and tokencount (length of article)\n",
    "def type_token_relation(df):\n",
    "    counts = df[\"tokens\"].apply(count_tokens)\n",
    "    tokens = counts.apply(lambda xs: xs[0])\n",
    "    tokens = tokens.rename(\"token_count\")\n",
    "    df_temp = pd.concat([df[\"type\"], tokens], axis=1)\n",
    "\n",
    "    df_ret = pd.DataFrame(index = df.index)\n",
    "    types = df_temp[\"type\"].unique()\n",
    "    for t in types:\n",
    "        df_ret[t] = df_temp[df_temp[\"type\"] == t][\"token_count\"]\n",
    "        pd.concat([df_ret, df_ret[t]], axis=1, ignore_index = True) \n",
    "\n",
    "    df_ret.boxplot(rot=45)\n",
    "\n",
    "    return df_ret.mean(axis=0)\n",
    "\n",
    "# Observation 2 - relationship between type and URL frequency\n",
    "def type_URLfreq_relation(df):\n",
    "    counts = df[\"tokens\"].apply(count_tokens)\n",
    "    url_freq = counts.apply(lambda xs: xs[1]/xs[0])\n",
    "    url_freq = url_freq.rename(\"url_freq\")\n",
    "    df_temp = pd.concat([df[\"type\"], url_freq], axis=1)\n",
    "\n",
    "    df_ret = pd.DataFrame(index = df.index)\n",
    "    types = df_temp[\"type\"].unique()\n",
    "    for t in types:\n",
    "        df_ret[t] = df_temp[df_temp[\"type\"] == t][\"url_freq\"]\n",
    "        pd.concat([df_ret, df_ret[t]], axis=1, ignore_index = True) \n",
    "\n",
    "    df_ret.boxplot(rot=45)\n",
    "\n",
    "    return df_ret.mean(axis=0)\n",
    "\n",
    "# Observation 3 - type distribution of dataset\n",
    "def type_distribution(df):\n",
    "    df['type'].value_counts().plot.bar()\n",
    "    return df['type'].value_counts()\n",
    "\n",
    "# Observation 4 - types of article each domain publishes\n",
    "def domain_type_relation(df):\n",
    "    domains = df[\"domain\"].unique()\n",
    "    types = []\n",
    "    for domain in domains:\n",
    "        types.append(df[df[\"domain\"] == domain][\"type\"].value_counts().to_dict())\n",
    "    idx = sorted(range(len(types)), key=lambda i: list(types[i].items())[0][1])\n",
    "    return list(map(lambda i: (domains[i], types[i]), reversed(idx)))"
   ]
  },
  {
   "cell_type": "code",
   "execution_count": 36,
   "metadata": {},
   "outputs": [
    {
     "data": {
      "text/plain": [
       "unreliable     361.666667\n",
       "fake           769.554839\n",
       "clickbait      329.000000\n",
       "conspiracy     938.225806\n",
       "reliable       530.666667\n",
       "bias           520.833333\n",
       "hate            67.000000\n",
       "junksci        415.000000\n",
       "political      756.086957\n",
       "unknown       2730.000000\n",
       "dtype: float64"
      ]
     },
     "execution_count": 36,
     "metadata": {},
     "output_type": "execute_result"
    },
    {
     "data": {
      "image/png": "[encoded data removed]",
      "text/plain": [
       "<Figure size 432x288 with 1 Axes>"
      ]
     },
     "metadata": {
      "needs_background": "light"
     },
     "output_type": "display_data"
    }
   ],
   "source": [
    "type_token_relation(df)"
   ]
  },
  {
   "cell_type": "code",
   "execution_count": 37,
   "metadata": {},
   "outputs": [
    {
     "data": {
      "text/plain": [
       "unreliable    0.007411\n",
       "fake          0.004505\n",
       "clickbait     0.000000\n",
       "conspiracy    0.003574\n",
       "reliable      0.001008\n",
       "bias          0.005705\n",
       "hate          0.000000\n",
       "junksci       0.013840\n",
       "political     0.002906\n",
       "unknown       0.001769\n",
       "dtype: float64"
      ]
     },
     "execution_count": 37,
     "metadata": {},
     "output_type": "execute_result"
    },
    {
     "data": {
      "image/png": "[encoded data removed]",
      "text/plain": [
       "<Figure size 432x288 with 1 Axes>"
      ]
     },
     "metadata": {
      "needs_background": "light"
     },
     "output_type": "display_data"
    }
   ],
   "source": [
    "type_URLfreq_relation(df)"
   ]
  },
  {
   "cell_type": "code",
   "execution_count": 38,
   "metadata": {},
   "outputs": [
    {
     "data": {
      "text/plain": [
       "fake          155\n",
       "conspiracy     31\n",
       "political      23\n",
       "unreliable      6\n",
       "bias            6\n",
       "junksci         6\n",
       "unknown         6\n",
       "reliable        3\n",
       "clickbait       1\n",
       "hate            1\n",
       "Name: type, dtype: int64"
      ]
     },
     "execution_count": 38,
     "metadata": {},
     "output_type": "execute_result"
    },
    {
     "data": {
      "image/png": "[encoded data removed]",
      "text/plain": [
       "<Figure size 432x288 with 1 Axes>"
      ]
     },
     "metadata": {
      "needs_background": "light"
     },
     "output_type": "display_data"
    }
   ],
   "source": [
    "type_distribution(df)"
   ]
  },
  {
   "cell_type": "code",
   "execution_count": 39,
   "metadata": {},
   "outputs": [
    {
     "data": {
      "text/plain": [
       "[('beforeitsnews.com', {'fake': 155}),\n",
       " ('canadafreepress.com', {'conspiracy': 24}),\n",
       " ('washingtonexaminer.com', {'political': 17}),\n",
       " ('awarenessact.com', {'conspiracy': 6}),\n",
       " ('naturalnews.com', {'junksci': 5}),\n",
       " ('strategic-culture.org', {'unknown': 4}),\n",
       " ('christianpost.com', {'reliable': 3}),\n",
       " ('city-journal.org', {'political': 2}),\n",
       " ('vdare.com', {'bias': 2}),\n",
       " ('undergroundhealth.com', {'unknown': 2}),\n",
       " ('alternet.org', {'political': 2}),\n",
       " ('awm.com', {'unreliable': 2}),\n",
       " ('breitbart.com', {'political': 1}),\n",
       " ('anonhq.com', {'unreliable': 1}),\n",
       " ('americanlookout.com', {'bias': 1}),\n",
       " ('washingtonsblog.com', {'bias': 1}),\n",
       " ('21stcenturywire.com', {'conspiracy': 1}),\n",
       " ('unz.com', {'bias': 1}),\n",
       " ('nationalreview.com', {'political': 1}),\n",
       " ('collectivelyconscious.net', {'junksci': 1}),\n",
       " ('breakpoint.org', {'unreliable': 1}),\n",
       " ('barenakedislam.com', {'hate': 1}),\n",
       " ('charismanews.com', {'bias': 1}),\n",
       " ('blackagendareport.com', {'unreliable': 1}),\n",
       " ('bipartisanreport.com', {'clickbait': 1}),\n",
       " ('cnnnext.com', {'unreliable': 1})]"
      ]
     },
     "execution_count": 39,
     "metadata": {},
     "output_type": "execute_result"
    }
   ],
   "source": [
    "domain_type_relation(df)"
   ]
  },
  {
   "cell_type": "markdown",
   "metadata": {},
   "source": [
    "## WIKINEWS SCRAPER"
   ]
  },
  {
   "cell_type": "code",
   "execution_count": 153,
   "metadata": {},
   "outputs": [],
   "source": [
    "def create_soup(url):\n",
    "    site = requests.get(url)\n",
    "    return bs(site.text, \"html.parser\")\n",
    "\n",
    "soup = create_soup('https://en.wikinews.org/wiki/Category:Politics_and_conflicts')\n",
    "\n",
    "assigned_letters = \"ABCDEFGHIJKLMNOPRSTUVWZABCDEFGHIJKLMNOPRSTUVWZ\"[21%23:21%23+10]"
   ]
  },
  {
   "cell_type": "code",
   "execution_count": 206,
   "metadata": {},
   "outputs": [],
   "source": [
    "def valid_links(soup):\n",
    "    links=[]\n",
    "    def is_valid(tag):\n",
    "        return tag.name == 'a' and tag.get('title')[0] in assigned_letters\n",
    "    section = {'id':\"mw-pages\"}\n",
    "    subsection = {'class':\"mw-category mw-category-columns\"}\n",
    "    for link in soup.find('div', section).find('div', subsection).find_all(is_valid):\n",
    "        links.append(\"https://en.wikinews.org\" + link.get('href'))\n",
    "    return links\n",
    "\n",
    "def next_page_url(soup):\n",
    "    return \"https://en.wikinews.org\" + soup.find('a', string=\"next page\").get('href')\n",
    "    \n",
    "def no_more_pages(soup):\n",
    "    return soup.find('a', string=\"next page\") is None\n",
    "\n",
    "def get_links(soup, links):\n",
    "    links += valid_links(soup)\n",
    "\n",
    "    if no_more_pages(soup):\n",
    "        return links\n",
    "    else:\n",
    "        next_soup = create_soup(next_page_url(soup))\n",
    "        return get_links(next_soup, links)\n",
    "    "
   ]
  },
  {
   "cell_type": "code",
   "execution_count": 207,
   "metadata": {},
   "outputs": [
    {
     "data": {
      "text/plain": [
       "3085"
      ]
     },
     "execution_count": 207,
     "metadata": {},
     "output_type": "execute_result"
    }
   ],
   "source": [
    "links = get_links(soup, [])\n",
    "len(links)"
   ]
  },
  {
   "cell_type": "code",
   "execution_count": 208,
   "metadata": {},
   "outputs": [],
   "source": [
    "def content_parser(soup):\n",
    "    publish_date = \"\"\n",
    "    content = \"\"\n",
    "\n",
    "    terminators = ('Have an opinion on this story', 'Share this', 'This article has passed through community review',\n",
    "        'This page is archived')\n",
    "\n",
    "    for tag in soup.find('div', {'id':\"bodyContent\"}).find('div', {'class':\"mw-parser-output\"}).find_all(['p','dl']):\n",
    "        datetag = tag.find('strong', {'class': \"published\"})\n",
    "        \n",
    "        if tag.text.startswith(terminators):\n",
    "            break\n",
    "        elif datetag != None:\n",
    "            publish_date = datetag.span['title']\n",
    "            content += tag.text\n",
    "            content = content[len(datetag.text):] \n",
    "        else:\n",
    "            content += (tag.text + \"\\n\")\n",
    "    \n",
    "    return content, publish_date\n",
    "\n",
    "def footer_parser(soup):\n",
    "    modified_date = \"\"\n",
    "    modified_tag = soup.find('li', {'id':\"footer-info-lastmod\"})\n",
    "    if modified_tag != None:\n",
    "        modified_text = modified_tag.text\n",
    "        dates_from_text = list(datefinder.find_dates(modified_text))\n",
    "        if len(dates_from_text) > 0:\n",
    "            modified_date = dates_from_text[0].strftime('%Y-%m-%d')\n",
    "    \n",
    "    return modified_date\n",
    "\n",
    "def source_parser(soup):\n",
    "    sources = []\n",
    "    for tag in soup.find_all('span', {'class':\"sourceTemplate\"}):\n",
    "        source_text = tag.find('i')\n",
    "        if source_text != None:\n",
    "            sources.append(source_text.text)\n",
    "    \n",
    "    return sources\n",
    "\n",
    "def categories_parser(soup):\n",
    "    categories = []\n",
    "\n",
    "    # Remove common categories\n",
    "    excluded = ['','Published', 'Archived', 'Politics and conflicts']\n",
    "\n",
    "    for tag in soup.find('div', {'id':\"mw-normal-catlinks\"}).find_all('li'):\n",
    "        if tag.text not in excluded:\n",
    "            categories.append(tag.text)\n",
    "    \n",
    "    # Remove date category\n",
    "    if len(list(datefinder.find_dates(categories[0]))) > 0:\n",
    "        categories = categories[1:]\n",
    "\n",
    "    return categories\n",
    "    \n",
    "\n",
    "def scrape(url):\n",
    "    soup = create_soup(url)\n",
    "\n",
    "    title = soup.find('h1', {'id':\"firstHeading\"}).text\n",
    "\n",
    "    content, publish_date = content_parser(soup)\n",
    "\n",
    "    modified_date = footer_parser(soup)\n",
    "\n",
    "    sources = source_parser(soup)\n",
    "\n",
    "    categories = categories_parser(soup)\n",
    "\n",
    "    return title, publish_date, modified_date, sources, categories, content"
   ]
  },
  {
   "cell_type": "code",
   "execution_count": 209,
   "metadata": {},
   "outputs": [],
   "source": [
    "scraped_data = pd.DataFrame(map(scrape, links), columns = ['title', 'publish_date', 'modified_date', 'sources', 'categories', 'content'])"
   ]
  },
  {
   "cell_type": "code",
   "execution_count": 210,
   "metadata": {},
   "outputs": [],
   "source": [
    "scraped_data.to_csv('wikinews.csv', encoding='utf-8')"
   ]
  },
  {
   "cell_type": "markdown",
   "metadata": {},
   "source": [
    "## DATABASE FAKENEWS CORPUS"
   ]
  },
  {
   "cell_type": "code",
   "execution_count": null,
   "metadata": {},
   "outputs": [],
   "source": [
    "df_fnc = pd.read_csv(\"1mio-raw.csv\", delimiter = \",\", nrows = 10000)"
   ]
  }
 ],
 "metadata": {
  "interpreter": {
   "hash": "65cc6a082bbdb51aba06bbf1d78c1b93987957587a078c9335da8e443a5b7d28"
  },
  "kernelspec": {
   "display_name": "Python 3.7.3 ('base')",
   "language": "python",
   "name": "python3"
  },
  "language_info": {
   "codemirror_mode": {
    "name": "ipython",
    "version": 3
   },
   "file_extension": ".py",
   "mimetype": "text/x-python",
   "name": "python",
   "nbconvert_exporter": "python",
   "pygments_lexer": "ipython3",
   "version": "3.7.3"
  },
  "orig_nbformat": 4
 },
 "nbformat": 4,
 "nbformat_minor": 2
}
