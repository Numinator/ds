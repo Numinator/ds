{
 "cells": [
  {
   "cell_type": "code",
   "execution_count": null,
   "metadata": {},
   "outputs": [],
   "source": [
    "import psycopg2\n",
    "\n",
    "conn = psycopg2.connect(dbname=\"fakenewsdb\", user=\"postgres\", password=\"1234\")\n",
    "\n",
    "cursor = conn.cursor()"
   ]
  },
  {
   "cell_type": "code",
   "execution_count": null,
   "metadata": {},
   "outputs": [],
   "source": [
    "# QUERY 1\n",
    "\n",
    "query1 = \"\"\"\n",
    "    SELECT distinct domain, type, scraped_at \n",
    "    FROM article\n",
    "    WHERE type = 'reliable' AND scraped_at >= '2018-01-15'\n",
    "\"\"\"\n",
    "\n",
    "cursor.execute('rollback')\n",
    "cursor.execute(query1)\n",
    "cursor.fetchall()"
   ]
  },
  {
   "cell_type": "code",
   "execution_count": null,
   "metadata": {},
   "outputs": [],
   "source": [
    "# QUERY 2\n",
    "\n",
    "query2 = \"\"\"\n",
    "    SELECT authors\n",
    "    FROM (\n",
    "        SELECT COUNT(a_id) AS cnt, authors \n",
    "        FROM authors \n",
    "        WHERE a_id IN (\n",
    "            SELECT id\n",
    "            FROM article\n",
    "            WHERE type = 'fake'\n",
    "        ) \n",
    "        GROUP BY authors\n",
    "    ) AS x\n",
    "    WHERE cnt = (SELECT MAX(cnt) FROM x)\n",
    "\"\"\"\n",
    "\n",
    "# This gives a max, but doesnt take into account if multiple authors write max number of fake articles\n",
    "query2_pseudomax = \"\"\"\n",
    "    SELECT COUNT(a_id), authors \n",
    "    FROM authors \n",
    "    WHERE a_id IN (\n",
    "        SELECT id\n",
    "        FROM article\n",
    "        WHERE type = 'fake'\n",
    "    )\n",
    "    GROUP BY authors ORDER BY COUNT(a_id) DESC LIMIT 1\n",
    "\"\"\"\n",
    "\n",
    "cursor.execute('rollback')\n",
    "cursor.execute(query2_pseudomax)\n",
    "cursor.fetchall()"
   ]
  },
  {
   "cell_type": "code",
   "execution_count": null,
   "metadata": {},
   "outputs": [],
   "source": [
    "# QUERY 3 - Need to join the metakeywords table on id and concatenate a single strings with keywords sorted in alphabetical order\n",
    "# then we can use that to compare with other entries in the tables - Didnt have time to finish\n",
    "\n",
    "query3 = \"\"\"\n",
    "    SELECT a_id, COUNT(*)\n",
    "    FROM metakeywords\n",
    "    GROUP BY a_id, mkeyword\n",
    "    HAVING COUNT(*) > 1\n",
    "\"\"\"\n",
    "\n",
    "cursor.execute('rollback')\n",
    "cursor.execute(query3)\n",
    "cursor.fetchall()"
   ]
  },
  {
   "cell_type": "code",
   "execution_count": null,
   "metadata": {},
   "outputs": [],
   "source": [
    "# QUERY 1 - FINDING THE TOP 3 DOMAIN PUBLISHING THE MOST FAKE ARTICLES\n",
    "q1 = \"\"\"\n",
    "    SELECT COUNT(id), domain\n",
    "    FROM article\n",
    "    WHERE id IN (\n",
    "        SELECT id\n",
    "        FROM article\n",
    "        WHERE type = 'fake'\n",
    "    )\n",
    "    GROUP BY domain ORDER BY COUNT(id) DESC LIMIT 3\n",
    "\"\"\"\n",
    "\n",
    "cursor.execute('rollback')\n",
    "cursor.execute(q1)\n",
    "cursor.fetchall()"
   ]
  },
  {
   "cell_type": "code",
   "execution_count": null,
   "metadata": {},
   "outputs": [],
   "source": [
    "# QUERY 2 - WHICH TYPE OF ARTICLES IS DONALD TRUMP MOST OFTEN MENTIONED IN\n",
    "\n",
    "q2 = \"\"\"\n",
    "    SELECT COUNT(id), type\n",
    "    FROM (\n",
    "      SELECT id, type, domain\n",
    "      FROM artikel\n",
    "      WHERE title LIKE '%trump%'\n",
    "    ) as x\n",
    "    GROUP BY type  ORDER BY COUNT(id) DESC LIMIT 3\n",
    "\"\"\"\n",
    "\n",
    "cursor.execute('rollback')\n",
    "cursor.execute(q2)\n",
    "cursor.fetchall()"
   ]
  }
 ],
 "metadata": {
  "language_info": {
   "name": "python"
  },
  "orig_nbformat": 4
 },
 "nbformat": 4,
 "nbformat_minor": 2
}
